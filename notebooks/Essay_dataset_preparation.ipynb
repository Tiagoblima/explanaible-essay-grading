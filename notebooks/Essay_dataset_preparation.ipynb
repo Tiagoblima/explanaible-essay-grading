{
  "cells": [
    {
      "cell_type": "markdown",
      "metadata": {
        "id": "-GTRKb3DFcaM"
      },
      "source": [
        "# Classificação de Notas de Redações do ENEM\n",
        "\n",
        "Este Notebook detalha a realização da classificação automática de notas de redações do ENEM utilizando o dataset de redações do ENEM e a biblioteca AIBoxLab. Seguiremos os seguintes passos:\n",
        "\n",
        "1.   Carregar o dataset de redações do ENEM e converter para o formato da AIBoxLab.\n",
        "2.   Analisar o dataset através de gráficos para entender as distribuições.\n",
        "3.   Extrair características (features) utilizando o AIBoxLab.\n",
        "4.   Salvar um conjunto de treino e teste.\n",
        "5.   Realizar a hiperparametrização de dois modelos (RandomForest e LogisticRegression) e salvar os melhores modelos para posterior análise.\n",
        "\n"
      ]
    },
    {
      "cell_type": "markdown",
      "metadata": {
        "id": "hpgCHcKYF0QK"
      },
      "source": [
        "## Setup"
      ]
    },
    {
      "cell_type": "code",
      "execution_count": 1,
      "metadata": {
        "colab": {
          "base_uri": "https://localhost:8080/"
        },
        "collapsed": true,
        "id": "u0nezoRgBrcB",
        "outputId": "d982828e-ad86-4d21-af3b-904f8898c57f"
      },
      "outputs": [
        {
          "name": "stdout",
          "output_type": "stream",
          "text": [
            "Collecting aibox-nlp[BR]\n",
            "  Downloading aibox_nlp-0.0.2-py3-none-any.whl.metadata (9.5 kB)\n",
            "Collecting scikit-learn==1.2.2 (from aibox-nlp[BR])\n",
            "  Downloading scikit_learn-1.2.2-cp310-cp310-manylinux_2_17_x86_64.manylinux2014_x86_64.whl.metadata (11 kB)\n",
            "Collecting torch==2.0.1 (from aibox-nlp[BR])\n",
            "  Downloading torch-2.0.1-cp310-cp310-manylinux1_x86_64.whl.metadata (24 kB)\n",
            "Collecting numpy==1.24.4 (from aibox-nlp[BR])\n",
            "  Downloading numpy-1.24.4-cp310-cp310-manylinux_2_17_x86_64.manylinux2014_x86_64.whl.metadata (5.6 kB)\n",
            "Collecting pandas==2.0.3 (from aibox-nlp[BR])\n",
            "  Downloading pandas-2.0.3-cp310-cp310-manylinux_2_17_x86_64.manylinux2014_x86_64.whl.metadata (18 kB)\n",
            "Collecting platformdirs==3.9.0 (from aibox-nlp[BR])\n",
            "  Downloading platformdirs-3.9.0-py3-none-any.whl.metadata (11 kB)\n",
            "Collecting tqdm==4.66.1 (from aibox-nlp[BR])\n",
            "  Downloading tqdm-4.66.1-py3-none-any.whl.metadata (57 kB)\n",
            "\u001b[2K     \u001b[90m━━━━━━━━━━━━━━━━━━━━━━━━━━━━━━━━━━━━━━━━\u001b[0m \u001b[32m57.6/57.6 kB\u001b[0m \u001b[31m1.4 MB/s\u001b[0m eta \u001b[36m0:00:00\u001b[0m\n",
            "\u001b[?25hCollecting joblib==1.3.2 (from aibox-nlp[BR])\n",
            "  Downloading joblib-1.3.2-py3-none-any.whl.metadata (5.4 kB)\n",
            "Collecting pyspellchecker==0.7.2 (from aibox-nlp[BR])\n",
            "  Downloading pyspellchecker-0.7.2-py3-none-any.whl.metadata (9.4 kB)\n",
            "Collecting spacy==3.6.1 (from aibox-nlp[BR])\n",
            "  Downloading spacy-3.6.1-cp310-cp310-manylinux_2_17_x86_64.manylinux2014_x86_64.whl.metadata (25 kB)\n",
            "Collecting transformers==4.31.0 (from aibox-nlp[BR])\n",
            "  Downloading transformers-4.31.0-py3-none-any.whl.metadata (116 kB)\n",
            "\u001b[2K     \u001b[90m━━━━━━━━━━━━━━━━━━━━━━━━━━━━━━━━━━━━━━━━\u001b[0m \u001b[32m116.9/116.9 kB\u001b[0m \u001b[31m4.1 MB/s\u001b[0m eta \u001b[36m0:00:00\u001b[0m\n",
            "\u001b[?25hCollecting sentence-transformers==2.2.2 (from aibox-nlp[BR])\n",
            "  Downloading sentence-transformers-2.2.2.tar.gz (85 kB)\n",
            "\u001b[2K     \u001b[90m━━━━━━━━━━━━━━━━━━━━━━━━━━━━━━━━━━━━━━━━\u001b[0m \u001b[32m86.0/86.0 kB\u001b[0m \u001b[31m3.1 MB/s\u001b[0m eta \u001b[36m0:00:00\u001b[0m\n",
            "\u001b[?25h  Preparing metadata (setup.py) ... \u001b[?25l\u001b[?25hdone\n",
            "Collecting cogroo4py==0.5.1 (from aibox-nlp[BR])\n",
            "  Downloading cogroo4py-0.5.1-py3-none-any.whl.metadata (732 bytes)\n",
            "Collecting language-tool-python==2.7.1 (from aibox-nlp[BR])\n",
            "  Downloading language_tool_python-2.7.1-py3-none-any.whl.metadata (12 kB)\n",
            "Collecting python-Levenshtein==0.21.1 (from aibox-nlp[BR])\n",
            "  Downloading python_Levenshtein-0.21.1-py3-none-any.whl.metadata (3.8 kB)\n",
            "Collecting polyfuzz==0.4.0 (from aibox-nlp[BR])\n",
            "  Downloading polyfuzz-0.4.0-py2.py3-none-any.whl.metadata (14 kB)\n",
            "Collecting lexical-diversity==0.1.1 (from aibox-nlp[BR])\n",
            "  Downloading lexical_diversity-0.1.1-py3-none-any.whl.metadata (4.1 kB)\n",
            "Collecting fuzzywuzzy==0.18.0 (from aibox-nlp[BR])\n",
            "  Downloading fuzzywuzzy-0.18.0-py2.py3-none-any.whl.metadata (4.9 kB)\n",
            "Collecting fuzzysearch==0.7.3 (from aibox-nlp[BR])\n",
            "  Downloading fuzzysearch-0.7.3.tar.gz (112 kB)\n",
            "\u001b[2K     \u001b[90m━━━━━━━━━━━━━━━━━━━━━━━━━━━━━━━━━━━━━━━━\u001b[0m \u001b[32m112.7/112.7 kB\u001b[0m \u001b[31m5.8 MB/s\u001b[0m eta \u001b[36m0:00:00\u001b[0m\n",
            "\u001b[?25h  Preparing metadata (setup.py) ... \u001b[?25l\u001b[?25hdone\n",
            "Collecting cohmetrix-br-lib==0.1.0 (from aibox-nlp[BR])\n",
            "  Downloading cohmetrix_br_lib-0.1.0-py3-none-any.whl.metadata (3.2 kB)\n",
            "Collecting py-rouge==1.1 (from aibox-nlp[BR])\n",
            "  Downloading py_rouge-1.1-py3-none-any.whl.metadata (8.7 kB)\n",
            "Collecting TRUNAJOD==0.1.1 (from aibox-nlp[BR])\n",
            "  Downloading TRUNAJOD-0.1.1-py3-none-any.whl.metadata (9.0 kB)\n",
            "Collecting unidecode==1.3.7 (from aibox-nlp[BR])\n",
            "  Downloading Unidecode-1.3.7-py3-none-any.whl.metadata (13 kB)\n",
            "Collecting scipy==1.10.1 (from aibox-nlp[BR])\n",
            "  Downloading scipy-1.10.1-cp310-cp310-manylinux_2_17_x86_64.manylinux2014_x86_64.whl.metadata (58 kB)\n",
            "\u001b[2K     \u001b[90m━━━━━━━━━━━━━━━━━━━━━━━━━━━━━━━━━━━━━━━━\u001b[0m \u001b[32m58.9/58.9 kB\u001b[0m \u001b[31m751.0 kB/s\u001b[0m eta \u001b[36m0:00:00\u001b[0m\n",
            "\u001b[?25hCollecting kenlm==0.2.0 (from aibox-nlp[BR])\n",
            "  Downloading kenlm-0.2.0.tar.gz (427 kB)\n",
            "\u001b[2K     \u001b[90m━━━━━━━━━━━━━━━━━━━━━━━━━━━━━━━━━━━━━━━━\u001b[0m \u001b[32m427.4/427.4 kB\u001b[0m \u001b[31m14.6 MB/s\u001b[0m eta \u001b[36m0:00:00\u001b[0m\n",
            "\u001b[?25h  Installing build dependencies ... \u001b[?25l\u001b[?25hcanceled\u001b[31mERROR: Operation cancelled by user\u001b[0m\u001b[31m\n",
            "\u001b[0m"
          ]
        }
      ],
      "source": [
        "!pip install aibox-nlp[BR]"
      ]
    },
    {
      "cell_type": "code",
      "execution_count": 2,
      "metadata": {
        "colab": {
          "base_uri": "https://localhost:8080/"
        },
        "id": "xoBYrGM1_zCY",
        "outputId": "007bf2a5-e321-4a8a-8454-1c5eaf57900a"
      },
      "outputs": [
        {
          "name": "stdout",
          "output_type": "stream",
          "text": [
            "Requirement already satisfied: imbalanced-learn in /usr/local/lib/python3.10/dist-packages (0.12.3)\n",
            "Requirement already satisfied: numpy>=1.17.3 in /usr/local/lib/python3.10/dist-packages (from imbalanced-learn) (1.26.4)\n",
            "Requirement already satisfied: scipy>=1.5.0 in /usr/local/lib/python3.10/dist-packages (from imbalanced-learn) (1.13.1)\n",
            "Requirement already satisfied: scikit-learn>=1.0.2 in /usr/local/lib/python3.10/dist-packages (from imbalanced-learn) (1.5.2)\n",
            "Requirement already satisfied: joblib>=1.1.1 in /usr/local/lib/python3.10/dist-packages (from imbalanced-learn) (1.4.2)\n",
            "Requirement already satisfied: threadpoolctl>=2.0.0 in /usr/local/lib/python3.10/dist-packages (from imbalanced-learn) (3.5.0)\n"
          ]
        }
      ],
      "source": [
        "!pip install imbalanced-learn"
      ]
    },
    {
      "cell_type": "code",
      "execution_count": 29,
      "metadata": {
        "colab": {
          "base_uri": "https://localhost:8080/"
        },
        "id": "uXoh7jdGCZpx",
        "outputId": "2cb59d8e-73ff-4fce-f3a3-65877a5de3a2"
      },
      "outputs": [
        {
          "name": "stderr",
          "output_type": "stream",
          "text": [
            "[nltk_data] Downloading package punkt to /root/nltk_data...\n",
            "[nltk_data]   Package punkt is already up-to-date!\n",
            "[nltk_data] Downloading package stopwords to /root/nltk_data...\n",
            "[nltk_data]   Package stopwords is already up-to-date!\n"
          ]
        }
      ],
      "source": [
        "import nltk\n",
        "nltk.download('punkt')\n",
        "nltk.download('stopwords')\n",
        "\n",
        "from sklearn.metrics import ConfusionMatrixDisplay, classification_report, confusion_matrix, cohen_kappa_score\n",
        "from aibox.nlp.factory.experiment import SimpleExperimentBuilder\n",
        "from sklearn.model_selection import RandomizedSearchCV\n",
        "from sklearn.model_selection import train_test_split\n",
        "from sklearn.ensemble import RandomForestClassifier\n",
        "from sklearn.linear_model import LogisticRegression\n",
        "from aibox.nlp.data.datasets import DatasetEssayBR\n",
        "from sklearn.preprocessing import StandardScaler\n",
        "from aibox.nlp.data.datasets import DatasetDF\n",
        "from aibox.nlp.factory import get_extractor\n",
        "from scipy.stats import randint, uniform\n",
        "from imblearn.over_sampling import SMOTE\n",
        "from aibox.nlp import serialization\n",
        "from nltk.corpus import stopwords\n",
        "import matplotlib.pyplot as plt\n",
        "from collections import Counter\n",
        "from google.colab import files\n",
        "from pathlib import Path\n",
        "from tqdm import tqdm\n",
        "import seaborn as sns\n",
        "import pandas as pd\n",
        "import numpy as np\n",
        "import joblib\n",
        "import glob\n",
        "import json\n",
        "import re\n",
        "\n"
      ]
    },
    {
      "cell_type": "markdown",
      "metadata": {
        "id": "jcrbj3V7F1wB"
      },
      "source": [
        "## 1. Preparação do Dataset"
      ]
    },
    {
      "cell_type": "markdown",
      "metadata": {
        "id": "xMl7o4EqGJMZ"
      },
      "source": [
        "### Carregar o Dataset"
      ]
    },
    {
      "cell_type": "code",
      "execution_count": null,
      "metadata": {
        "colab": {
          "base_uri": "https://localhost:8080/"
        },
        "id": "iBcxRzxrGLBC",
        "outputId": "6660ba2f-5ada-4330-e020-aef393ec4ec4"
      },
      "outputs": [
        {
          "name": "stderr",
          "output_type": "stream",
          "text": [
            "nlpbox: download datasets/essay-br-extended.v1: 100%|██████████| 12.1M/12.1M [00:00<00:00, 21.2MB/s]\n"
          ]
        },
        {
          "name": "stdout",
          "output_type": "stream",
          "text": [
            "Número total de redações: 6564\n"
          ]
        }
      ],
      "source": [
        "ds = DatasetEssayBR(extended=True, target_competence='score')\n",
        "df = ds.to_frame()\n",
        "\n",
        "print(f\"Número total de redações: {len(df)}\")"
      ]
    },
    {
      "cell_type": "code",
      "execution_count": null,
      "metadata": {
        "colab": {
          "base_uri": "https://localhost:8080/",
          "height": 206
        },
        "id": "xYv2CyB5k1MH",
        "outputId": "23a21f73-81c0-4ed8-ca28-68f3da6c707f"
      },
      "outputs": [
        {
          "data": {
            "application/vnd.google.colaboratory.intrinsic+json": {
              "summary": "{\n  \"name\": \"df\",\n  \"rows\": 6564,\n  \"fields\": [\n    {\n      \"column\": \"text\",\n      \"properties\": {\n        \"dtype\": \"string\",\n        \"num_unique_values\": 6564,\n        \"samples\": [\n          \"S\\u00f3 existe um caminho para uma sociedade justa, honesta e igualit\\u00e1ria  educa\\u00e7\\u00e3o \\u00e9 o \\u00fanico norte seguro e eficaz. A vida sexual far\\u00e1 parte da vida de todos os seres humanos adultos. A n\\u00e3o ser que fa\\u00e7am votos de castidade. Fora isso, todo ser humano saud\\u00e1vel passar\\u00e1 por essa fase, \\u00e9 melhor que sejam educados para essa fase adequadamente. E quem melhor que um professor? Sexo n\\u00e3o deve ser tabu e sim ci\\u00eancia! E como toda ci\\u00eancia \\u00e9 melhor que seja muito bem estudada e compreendida.\\nO governo n\\u00e3o pode consentir que, padr\\u00f5es morais e religiosos desacerbados ditem regras, porque essas regras n\\u00e3o impedem que jovens comecem suas experi\\u00eancias sexuais de forma equivocadas e prematuras, e por vezes arriscadas. \\u00c9 dever do governo educar seu povo para que n\\u00e3o pague muito caro as consequ\\u00eancias de problemas que poderiam ter sidos evitados com o simples h\\u00e1bito de educar. O povo educado pode errar, mas com escolha e n\\u00e3o por falta dela.\\nA educa\\u00e7\\u00e3o sexual \\u00e9 o maior anticonceptivo do planeta, pois age na preven\\u00e7\\u00e3o de gravidez, doen\\u00e7as sexuais e futuros arriscados e desnecess\\u00e1rios aborto. Nenhuma mulher nesse mundo est\\u00e1 preparada psicologicamente para fazer um aborto. Assassinar seu e somente seu feto. Seja porque motivo for. Muitas carregam sequelas e arrependimentos na alma para resto da vida. \\u00c9 hora de educar seu povo. S\\u00f3 o conhecimento pode mudar essa realidade para sempre.\\nPara isso, \\u00e9 preciso uma movimenta\\u00e7\\u00e3o nacional, escola, sociedade, governo e religi\\u00e3o. Juntos poder\\u00e3o melhorar a sa\\u00fade, prevenir gravidez e abortos e quebrar paradigmas e tabus libertando o jovem de tolices de pecados, dando autonomia  para quando chegar a hora, ter uma vida sexual segura, feliz e sem sequelas. Logo, a educa\\u00e7\\u00e3o sexual n\\u00e3o ser\\u00e1 um paliativo, mas sim uma solu\\u00e7\\u00e3o definitiva para que as futuras gera\\u00e7\\u00f5es entrem na vida adulta com seguran\\u00e7a, escolhas e conhecimento. A vacina para todos os problemas ligados ao sexo,  \\u00e9 a educa\\u00e7\\u00e3o sexual nas escolas. Simples, barata e 100% eficaz.\",\n          \"\\u00c9 evidente o quanto as DST s\\u00e3o muito mais comuns entre os jovens, \\u00e9 um dos maiores perigo dessa fase da vida, \\u00e9 um problema muitas vezes causado pela pr\\u00f3pria mentalidade de adolescente, que pode por em risco todo o resto de sua vida.\\nDoen\\u00e7as como AIDS, gonorr\\u00e9ia e s\\u00edflis s\\u00e3o transmitidas durante o ato sexual sem o uso de preservativo, as chances de se obter essas doen\\u00e7as aumentam ainda mais quando o indiv\\u00edduo det\\u00e9m rela\\u00e7\\u00f5es com v\\u00e1rias pessoas em um curto per\\u00edodo de tempo. Na juventude, muitas vezes falta maturidade e conscientiza\\u00e7\\u00e3o, pois os tratamentos, consultas e preven\\u00e7\\u00f5es est\\u00e3o a disponibilidade todos, atrav\\u00e9s do Servi\\u00e7o \\u00danico de Sa\\u00fade , que oferece, por exemplo, preservativos de forma gratuita, basta que os jovens tomem ci\\u00eancia disso, pois \\u00e9 normal nessa fase querer aproveitar os prazeres m\\u00e1ximos e acabar se expondo a riscos.\\nEnfim, \\u00e9 essencial que os jovens brasileiros tomem responsabilidade pelos seus atos e n\\u00e3o ajam de forma compulsiva quando iniciam sua vida sexual, cabe ao minist\\u00e9rio da sa\\u00fade oferecer uma educa\\u00e7\\u00e3o sexual por meio de col\\u00e9gios e m\\u00eddias sociais, instruindo a import\\u00e2ncia do uso de preservativos e apresentando dados sobre as diversas doen\\u00e7as, garantindo um ganho de maturidade nos jovens para com o futuro de sua vida sexual.\",\n          \"O saneamento b\\u00e1sico \\u00e9 definido como um conjunto dos servi\\u00e7os de infraestrutura e instala\\u00e7\\u00f5es operacionais. Nesse \\u00e2mbito, hodiernamente comenta-se com frequ\\u00eancia a respeito de sua privatiza\\u00e7\\u00e3o no Brasil. Dessa forma, observa-se que tal projeto do Estado dever\\u00e1 acentuar ainda mais a desigualdade nesse setor uma vez que desfavorecer\\u00e1 a parcela pobre da popula\\u00e7\\u00e3o.\\nA princ\\u00edpio, vale ressaltar a indiferen\\u00e7a do Estado como colaborador do problema. Certamente, segundo o fil\\u00f3sofo iluminista John Locke a sociedade \\u00e9 formada a partir de um acordo entre a popula\\u00e7\\u00e3o e o governo, no entanto, ele destaca que o problema desestabiliza, isto \\u00e9, o fato do Estado n\\u00e3o cumprir seu papel. Nessa perspectiva, analogamente \\u00e9 poss\\u00edvel entender a privatiza\\u00e7\\u00e3o do saneamento b\\u00e1sico como um ato de n\\u00e3o cumprimento de deveres por parte do Estado.\\nAl\\u00e9m disso, \\u00e9 relevante salientar que a privatiza\\u00e7\\u00e3o na pr\\u00e1tica levar\\u00e1 ao aumento das tarifas dos servi\\u00e7os, o que implicar\\u00e1 no agravamento da desigualdade de acesso. De fato, segundo a fil\\u00f3sofa existencialista Simone de Beauvoir a sociedade apresenta um fen\\u00f4meno chamado de \\u201cInvisibilidade Social\\u201d, o qual consiste na negligente a\\u00e7\\u00e3o de valorizar determinados grupos mais que outros. Nesse contexto, constata-se que a parte mais pobre da popula\\u00e7\\u00e3o torna-se \\u201cinvis\\u00edvel\\u201d a essa medida, sendo assim, n\\u00e3o possuem f\\u00e1cil acesso aos servi\\u00e7os de saneamento.\\nPortanto, em virtude dos fatos mencionados faz-se necess\\u00e1rio medidas para atenuar essa situa\\u00e7\\u00e3o. Logo, cabe ao Estado, como promotor do bem-estar social, desenvolver uma alternativa para a universaliza\\u00e7\\u00e3o do saneamento b\\u00e1sico por meio de sua reestatiza\\u00e7\\u00e3o, e posteriormente da aplica\\u00e7\\u00e3o de mais investimentos financeiros nesse setor, para que desse modo haja a expans\\u00e3o desses imprescind\\u00edveis servi\\u00e7os a toda popula\\u00e7\\u00e3o brasileira, confirmando assim o pensamento de Abraham Lincoln, \\\"A democracia \\u00e9 o governo do povo, pelo povo, para o povo\\\".\"\n        ],\n        \"semantic_type\": \"\",\n        \"description\": \"\"\n      }\n    },\n    {\n      \"column\": \"target\",\n      \"properties\": {\n        \"dtype\": \"number\",\n        \"std\": 179,\n        \"min\": 0,\n        \"max\": 1000,\n        \"num_unique_values\": 25,\n        \"samples\": [\n          440,\n          680,\n          0\n        ],\n        \"semantic_type\": \"\",\n        \"description\": \"\"\n      }\n    },\n    {\n      \"column\": \"C1\",\n      \"properties\": {\n        \"dtype\": \"number\",\n        \"std\": 33,\n        \"min\": 0,\n        \"max\": 200,\n        \"num_unique_values\": 6,\n        \"samples\": [\n          0,\n          40,\n          200\n        ],\n        \"semantic_type\": \"\",\n        \"description\": \"\"\n      }\n    },\n    {\n      \"column\": \"C2\",\n      \"properties\": {\n        \"dtype\": \"number\",\n        \"std\": 39,\n        \"min\": 0,\n        \"max\": 200,\n        \"num_unique_values\": 6,\n        \"samples\": [\n          0,\n          40,\n          200\n        ],\n        \"semantic_type\": \"\",\n        \"description\": \"\"\n      }\n    },\n    {\n      \"column\": \"C3\",\n      \"properties\": {\n        \"dtype\": \"number\",\n        \"std\": 38,\n        \"min\": 0,\n        \"max\": 200,\n        \"num_unique_values\": 6,\n        \"samples\": [\n          0,\n          40,\n          200\n        ],\n        \"semantic_type\": \"\",\n        \"description\": \"\"\n      }\n    },\n    {\n      \"column\": \"C4\",\n      \"properties\": {\n        \"dtype\": \"number\",\n        \"std\": 45,\n        \"min\": 0,\n        \"max\": 200,\n        \"num_unique_values\": 6,\n        \"samples\": [\n          0,\n          40,\n          200\n        ],\n        \"semantic_type\": \"\",\n        \"description\": \"\"\n      }\n    },\n    {\n      \"column\": \"C5\",\n      \"properties\": {\n        \"dtype\": \"number\",\n        \"std\": 51,\n        \"min\": 0,\n        \"max\": 200,\n        \"num_unique_values\": 6,\n        \"samples\": [\n          0,\n          40,\n          200\n        ],\n        \"semantic_type\": \"\",\n        \"description\": \"\"\n      }\n    },\n    {\n      \"column\": \"score\",\n      \"properties\": {\n        \"dtype\": \"number\",\n        \"std\": 179,\n        \"min\": 0,\n        \"max\": 1000,\n        \"num_unique_values\": 25,\n        \"samples\": [\n          440,\n          680,\n          0\n        ],\n        \"semantic_type\": \"\",\n        \"description\": \"\"\n      }\n    },\n    {\n      \"column\": \"prompt\",\n      \"properties\": {\n        \"dtype\": \"category\",\n        \"num_unique_values\": 151,\n        \"samples\": [\n          \"Uma pandemia (do grego \\u03c0\\u03b1\\u03bd [pan = tudo/ todo(s)] + \\u03b4\\u03ae\\u03bc\\u03bf\\u03c2 [demos = povo]) \\u00e9 uma epidemia de doen\\u00e7a infecciosa que se espalha entre a popula\\u00e7\\u00e3o localizada numa grande regi\\u00e3o geogr\\u00e1fica como, por exemplo, um continente, ou mesmo o Planeta Terra.\\u00a0[Wikipedia] Leia o texto na \\u00edntegra \\u00a0\\nAs a\\u00e7\\u00f5es do Brasil no combate \\u00e0 pandemia de influenza A H1N1 de 2009, que ficou conhecida como \\\"gripe su\\u00edna\\\", revelam a import\\u00e2ncia de a\\u00e7\\u00f5es pol\\u00edticas que fortale\\u00e7am a rede de pesquisa, desenvolvimento e produ\\u00e7\\u00e3o de vacinas e o funcionamento do SUS (Sistema \\u00danico de Sa\\u00fade). A observa\\u00e7\\u00e3o \\u00e9 da ge\\u00f3grafa Mait Bertollo, que estudou as iniciativas contra a doen\\u00e7a em pesquisa da FFLCH (Faculdade de Filosofia, Letras e Ci\\u00eancias Humanas) da USP (Universidade de S\\u00e3o Paulo), apresentada em 2014. No caso da atual epidemia de covid-19, a ge\\u00f3grafa afirma que as pesquisas para se chegar a uma vacina est\\u00e3o acontecendo, apesar do contingenciamento de recursos para a produ\\u00e7\\u00e3o cient\\u00edfica, mas defendende uma maior articula\\u00e7\\u00e3o entre governo federal, Estados e munic\\u00edpios para que a luta contra a doen\\u00e7a seja bem-sucedida.\\u00a0[UOL] Leia o texto na \\u00edntegra\\nAp\\u00f3s a confirma\\u00e7\\u00e3o do primeiro caso de coronav\\u00edrus no Brasil, pesquisadoras do Instituto Adolfo Lutz da Universidade de S\\u00e3o Paulo em parceria com a Universidade de Oxford, foram capazes de sequenciar o genoma do v\\u00edrus em 48 horas. Essa descoberta pode parecer pequena, mas \\u00e9 importante para entender como o v\\u00edrus se muta e como uma vacina pode ser criada para evitar o cont\\u00e1gio pand\\u00eamico.\\n\\u201cTemos trabalhado para desenvolver uma tecnologia r\\u00e1pida e barata. Todos os casos que forem confirmados no Adolfo Lutz ser\\u00e3o sequenciados. A ideia \\u00e9 fornecer informa\\u00e7\\u00f5es que possam ser usada para entender a epidemia em curso, para que outros cientistas possam comparar os dados. Essa cadeia de informa\\u00e7\\u00e3o de todo mundo junto \\u00e9 importante para o mundo poder responder \\u00e0 epidemia\\u201d, explicou Ester Sabino, do IMT ao Estado de S\\u00e3o Paulo. [Hypeness] Leia o texto na \\u00edntegra\\n\\u00a0\",\n          \"Ningu\\u00e9m consegue viver sem comer. Isso \\u00e9 \\u00f3bvio. No entanto, a comida tamb\\u00e9m pode se transformar num inimigo mortal do ser humano. Ou melhor, isso j\\u00e1 est\\u00e1 acontecendo e tomou propor\\u00e7\\u00f5es epid\\u00eamicas. Quase 40% da popula\\u00e7\\u00e3o adulta do mundo - e cerca de 20% das crian\\u00e7as e adolescentes entre 5 e 18 anos - j\\u00e1 sofrem de sobrepeso ou de obesidade. O excesso de peso, segundo algumas estimativas, se tornou a segunda causa de morte no mundo contempor\\u00e2neo, devido \\u00e0s complica\\u00e7\\u00f5es que isso acarreta \\u00e0 sa\\u00fade. Quais podem ser as causas dessa epidemia? E, mais importante, o que se pode fazer para combat\\u00ea-la? Tendo em vista que o sobrepeso e a obesidade j\\u00e1 se tornaram um problema de sa\\u00fade p\\u00fablica - e n\\u00e3o simplesmente uma quest\\u00e3o individual -, redija uma disserta\\u00e7\\u00e3o argumentativa expondo seu ponto de vista sobre o assunto e respondendo ao mesmo tempo as duas quest\\u00f5es acima formuladas. Os textos a seguir fornecem elementos que podem ajudar sua reflex\\u00e3o.\\n\\nDe acordo com o estudo divulgado na revista cient\\u00edfica Lancet, a preval\\u00eancia de obesidade global em meninas saltou de 0,7% em 1975 para 5,6% em 2016. Em meninos, a alta foi ainda maior: saiu de apenas 0,9% em 1975 para 7,8% em 2016. Como consequ\\u00eancia, 124 milh\\u00f5es de crian\\u00e7as e adolescentes entre 5 e 19 anos ao redor do mundo estavam obesos em 2016.\\nNo Brasil a tend\\u00eancia \\u00e9 semelhante. Nas \\u00faltimas quatro d\\u00e9cadas, o \\u00edndice de obesidade entre meninos saltou de 0,93% para 12,7%. Entre meninas, o crescimento foi menor, mas ainda assim elevado: passou de 1,01% em 1975 para 9,37% no ano passado, de acordo com dados compilados pela rede de cientistas de sa\\u00fade NCD Risk Factor Collaboration, utilizados na pesquisa.\\nSegundo a Federa\\u00e7\\u00e3o Mundial de Obesidade, o crescente n\\u00edvel de obesidade entre crian\\u00e7as e adultos coloca a sa\\u00fade desse p\\u00fablico \\\"em perigo imediato\\\". Estimativa da organiza\\u00e7\\u00e3o aponta que, em 2025, 150 mil crian\\u00e7as e jovens no Brasil desenvolver\\u00e3o diabetes tipo 2, enquanto 1 milh\\u00e3o ter\\u00e3o press\\u00e3o arterial elevada. Outro dado alarmante \\u00e9 o n\\u00famero de crian\\u00e7as e jovens brasileiros que sofrer\\u00e3o com gordura no f\\u00edgado - cerca de 1,4 milh\\u00e3o, segundo a entidade.\\nBBC Brasil, editado\\nO endocrinologista e metabologista Fl\\u00e1vio Cadegiani, membro da Associa\\u00e7\\u00e3o Brasileira para Estudos da Obesidade (Abeso) e especialista da The Obesity Society, ressalta que as pol\\u00edticas p\\u00fablicas de combate \\u00e0 obesidade t\\u00eam apresentado resultados conflitantes. \\\"Nos Estados Unidos, a oferta de alimentos mais saud\\u00e1veis nas escolas apresentou um desperd\\u00edcio acima de 80%. A oferta de supermercados 'saud\\u00e1veis' em bairros mais pobres dos EUA, na maior parte das vezes, n\\u00e3o melhorou o comportamento alimentar daquela popula\\u00e7\\u00e3o. Por outro lado, no M\\u00e9xico, a sobretaxa\\u00e7\\u00e3o de refrigerantes resultou em uma redu\\u00e7\\u00e3o importante do consumo desse produto\\\", observa.\\nO problema \\u00e9 que, de acordo com os especialistas, a obesidade n\\u00e3o pode ser atacada em uma s\\u00f3 frente, pois envolve m\\u00faltiplos fatores - inclusive, gen\\u00e9ticos. Luiza Torquato, do Conselho Federal de Nutricionistas, lembra que, por tr\\u00e1s do excesso de peso, h\\u00e1 causas biol\\u00f3gicas, ecol\\u00f3gicas, econ\\u00f4micas e sociais. \\\"Controlar e reverter a situa\\u00e7\\u00e3o exige atua\\u00e7\\u00e3o conjunta dos diferentes setores do governo e participa\\u00e7\\u00e3o social\\\", defende. Como parte das solu\\u00e7\\u00f5es, uma equipe de pesquisadores da Universidade de Liverpool sugere reduzir a quantidade de alimentos das embalagens, indo na contram\\u00e3o da tend\\u00eancia de agigantar as por\\u00e7\\u00f5es, como acontece, por exemplo, com refrigerantes e pipocas vendidos em cinemas.\\nCorreio Braziliense\\nAl\\u00e9m dos resultados conflitantes das pol\\u00edticas p\\u00fablicas de combate \\u00e0 obesidade, existem diversos obst\\u00e1culos para a implementa\\u00e7\\u00e3o dessas pol\\u00edticas, que incluem o lobby da ind\\u00fastria aliment\\u00edcia, a dificuldade de classifica\\u00e7\\u00e3o do que \\u00e9 um alimento \\\"apropriado\\\" e saud\\u00e1vel, a resist\\u00eancia da pr\\u00f3pria popula\\u00e7\\u00e3o, principalmente com obesidade, que em grande parte apresenta uma rela\\u00e7\\u00e3o emotiva e qu\\u00edmica com a comida de alta densidade cal\\u00f3rica, a quebra de paradigmas, incluindo a de que trata-se de impedir o acesso a um direito universal (o alimento), entre muitos outros.\\nO caminho para conter a epidemia da obesidade deve ser semelhante aos caminhos tomados contra o tabagismo, cuja conscientiza\\u00e7\\u00e3o progressiva dos governos e das popula\\u00e7\\u00f5es foram permitindo condutas cada vez mais rigorosas contra o tabaco (veja, se logo no in\\u00edcio das campanhas antitabagismo, quando a conscientiza\\u00e7\\u00e3o ainda n\\u00e3o era plena, apresentassem propostas de medidas extremas, como apresentar imagens degradantes dos efeitos do cigarro nas caixas dos ma\\u00e7os, jamais seriam aceitas).\\nDr. Fl\\u00e1vio Cadegiani, endocrinologista e metabologista \",\n          \"A cultura do cancelamento \\u00e9 um fen\\u00f4meno em que uma pessoa \\u00e9 ejetada de uma posi\\u00e7\\u00e3o de influ\\u00eancia ou fama devido a atitudes question\\u00e1veis.\\u00a0\\u00c9 uma esp\\u00e9cie de boicote em que um indiv\\u00edduo (geralmente uma celebridade) que compartilhou uma opini\\u00e3o question\\u00e1vel ou controversa, ou que no passado teve comportamento percebido como ofensivo nas redes sociais, \\u00e9 \\\"cancelado\\\". Eles s\\u00e3o ostracizados e afastados por ex-amigos, seguidores e apoiadores, levando a um grave preju\\u00edzo na carreira do indiv\\u00edduo cancelado. Em caso de celebridades, sua base de f\\u00e3s pode diminuir significativamente.\\n\\u00c9 um tema pol\\u00eamico sem defini\\u00e7\\u00e3o clara, utilizado comumente em discursos inflamat\\u00f3rios, com alta carga ideol\\u00f3gica, muitas vezes com o objetivo de atacar outro grupo social ou pol\\u00edtico. Por isso, pode ser considerada como um \\\"golpe\\\" (\\\"scam\\\") pol\\u00edtico: atacar uma suposta cultura do cancelamento \\u00e9 a rea\\u00e7\\u00e3o desesperada de grupos reacion\\u00e1rios que se veem prejudicados devido a rea\\u00e7\\u00e3o a seus comportamentos considerados, por cr\\u00edticos, como sendo inadequados para a sociedade moderna.\\u00a0[Wikip\\u00e9dia] Leia o texto na \\u00edntegra\\nO movimento hoje conhecido como \\\"cultura do cancelamento\\\" come\\u00e7ou, h\\u00e1 alguns anos, como uma forma de chamar a aten\\u00e7\\u00e3o para causas como justi\\u00e7a social e preserva\\u00e7\\u00e3o ambiental. Seria uma maneira de amplificar a voz de grupos oprimidos e for\\u00e7ar a\\u00e7\\u00f5es pol\\u00edticas de marcas ou figuras p\\u00fablicas.\\nFunciona assim: um usu\\u00e1rio de m\\u00eddias sociais, como Twitter e Facebook, presencia um ato que considera errado, registra em v\\u00eddeo ou foto e posta em sua conta, com o cuidado de marcar a empresa empregadora do denunciado e autoridades p\\u00fablicas ou outros influenciadores digitais que possam amplificar o alcance da mensagem. \\u00c9 comum que, em quest\\u00e3o de horas, o post tenha sido replicado milhares de vezes.\\nA cascata de men\\u00e7\\u00f5es a uma empresa costuma precipitar atitudes sum\\u00e1rias para estancar o desgaste de imagem, sem que a pessoa sob ataque possa necessariamente se defender amplamente.\\nO cancelamento \\u00e9 diferente da trollagem t\\u00edpica de internet, eventualmente com insultos coordenados, frequente em disputas de opini\\u00e3o entre usu\\u00e1rios das redes. O \\\"cancelamento\\\" \\u00e9 um ataque \\u00e0 reputa\\u00e7\\u00e3o que amea\\u00e7a o emprego e os meios de subsist\\u00eancia atuais e futuros do cancelado. Extremamente frequente nos Estados Unidos, ela hoje abate personalidade, mas tamb\\u00e9m an\\u00f4nimos.\\u00a0[BBC Brasil] Leia o texto na \\u00edntegra\\u00a0\\nUm dos exemplos recentes da cultura do cancelamento nas redes sociais foi ocorrido com uma digital influencer do mundo fitness que, durante a pandemia e o isolamento social, meses ap\\u00f3s ser diagnosticada e \\\"se curar\\\" do coronav\\u00edrus, reuniu alguns amigos em sua casa, fazendo publica\\u00e7\\u00f5es da \\\"festinha\\\". A anfitri\\u00e3 foi imediatamente cancelada nas redes sociais, com a consequente perda de diversas parcerias e rescis\\u00e3o de contratos. E apesar do pedido de desculpas e reconhecimento do erro, o cancelamento se manteve, beirando o linchamento virtual e fazendo com que ela desativasse seu perfil em uma de suas redes sociais.\\nNesse contexto, observa-se que o \\\"Tribunal da Internet\\\" n\\u00e3o realiza seus julgamentos com igualdade ou proporcionalidade. Primeiro, porque deixa-se de discutir ideias e passa-se a discutir pessoas ou empresas. Segundo, porque poucos preferem ouvir, entender e formar uma opini\\u00e3o antes de atacar. Terceiro, porque outras pessoas ou empresas envolvidas em situa\\u00e7\\u00f5es an\\u00e1logas, por exemplo, n\\u00e3o sofrem san\\u00e7\\u00f5es na mesma intensidade que as \\\"canceladas\\\". Quarto, porque, no mundo virtual, \\u00e9 muito t\\u00eanue a linha entre a cr\\u00edtica construtiva e o ataque revestido ofensas.\\u00a0[UOL] Leia o texto na \\u00edntegra\\u00a0\"\n        ],\n        \"semantic_type\": \"\",\n        \"description\": \"\"\n      }\n    }\n  ]\n}",
              "type": "dataframe",
              "variable_name": "df"
            },
            "text/html": [
              "\n",
              "  <div id=\"df-f5ecb244-1ae4-4307-bdcf-6b3d3e657390\" class=\"colab-df-container\">\n",
              "    <div>\n",
              "<style scoped>\n",
              "    .dataframe tbody tr th:only-of-type {\n",
              "        vertical-align: middle;\n",
              "    }\n",
              "\n",
              "    .dataframe tbody tr th {\n",
              "        vertical-align: top;\n",
              "    }\n",
              "\n",
              "    .dataframe thead th {\n",
              "        text-align: right;\n",
              "    }\n",
              "</style>\n",
              "<table border=\"1\" class=\"dataframe\">\n",
              "  <thead>\n",
              "    <tr style=\"text-align: right;\">\n",
              "      <th></th>\n",
              "      <th>text</th>\n",
              "      <th>target</th>\n",
              "      <th>C1</th>\n",
              "      <th>C2</th>\n",
              "      <th>C3</th>\n",
              "      <th>C4</th>\n",
              "      <th>C5</th>\n",
              "      <th>score</th>\n",
              "      <th>prompt</th>\n",
              "    </tr>\n",
              "  </thead>\n",
              "  <tbody>\n",
              "    <tr>\n",
              "      <th>0</th>\n",
              "      <td>Comenta-se que o ex presidente Lula ex-preside...</td>\n",
              "      <td>0</td>\n",
              "      <td>0</td>\n",
              "      <td>0</td>\n",
              "      <td>0</td>\n",
              "      <td>0</td>\n",
              "      <td>0</td>\n",
              "      <td>0</td>\n",
              "      <td>No início deste mês de novembro, o Supremo Tri...</td>\n",
              "    </tr>\n",
              "    <tr>\n",
              "      <th>1</th>\n",
              "      <td>Amazonas, sem ela ele os dias do brasil Brasil...</td>\n",
              "      <td>0</td>\n",
              "      <td>0</td>\n",
              "      <td>0</td>\n",
              "      <td>0</td>\n",
              "      <td>0</td>\n",
              "      <td>0</td>\n",
              "      <td>0</td>\n",
              "      <td>No final de agosto passado, as queimadas na fl...</td>\n",
              "    </tr>\n",
              "    <tr>\n",
              "      <th>2</th>\n",
              "      <td>Eu acredito que os dois são muito importantes ...</td>\n",
              "      <td>0</td>\n",
              "      <td>0</td>\n",
              "      <td>0</td>\n",
              "      <td>0</td>\n",
              "      <td>0</td>\n",
              "      <td>0</td>\n",
              "      <td>0</td>\n",
              "      <td>De modo geral, não é segredo para ninguém que ...</td>\n",
              "    </tr>\n",
              "    <tr>\n",
              "      <th>3</th>\n",
              "      <td>Assunto que repercute de forma constante nos a...</td>\n",
              "      <td>0</td>\n",
              "      <td>0</td>\n",
              "      <td>0</td>\n",
              "      <td>0</td>\n",
              "      <td>0</td>\n",
              "      <td>0</td>\n",
              "      <td>0</td>\n",
              "      <td>No início deste mês de novembro, o Supremo Tri...</td>\n",
              "    </tr>\n",
              "    <tr>\n",
              "      <th>4</th>\n",
              "      <td>O supremo tribunal federal Supremo Tribunal Fe...</td>\n",
              "      <td>0</td>\n",
              "      <td>0</td>\n",
              "      <td>0</td>\n",
              "      <td>0</td>\n",
              "      <td>0</td>\n",
              "      <td>0</td>\n",
              "      <td>0</td>\n",
              "      <td>Ao longo dos últimos dez anos, o papel do STF ...</td>\n",
              "    </tr>\n",
              "  </tbody>\n",
              "</table>\n",
              "</div>\n",
              "    <div class=\"colab-df-buttons\">\n",
              "\n",
              "  <div class=\"colab-df-container\">\n",
              "    <button class=\"colab-df-convert\" onclick=\"convertToInteractive('df-f5ecb244-1ae4-4307-bdcf-6b3d3e657390')\"\n",
              "            title=\"Convert this dataframe to an interactive table.\"\n",
              "            style=\"display:none;\">\n",
              "\n",
              "  <svg xmlns=\"http://www.w3.org/2000/svg\" height=\"24px\" viewBox=\"0 -960 960 960\">\n",
              "    <path d=\"M120-120v-720h720v720H120Zm60-500h600v-160H180v160Zm220 220h160v-160H400v160Zm0 220h160v-160H400v160ZM180-400h160v-160H180v160Zm440 0h160v-160H620v160ZM180-180h160v-160H180v160Zm440 0h160v-160H620v160Z\"/>\n",
              "  </svg>\n",
              "    </button>\n",
              "\n",
              "  <style>\n",
              "    .colab-df-container {\n",
              "      display:flex;\n",
              "      gap: 12px;\n",
              "    }\n",
              "\n",
              "    .colab-df-convert {\n",
              "      background-color: #E8F0FE;\n",
              "      border: none;\n",
              "      border-radius: 50%;\n",
              "      cursor: pointer;\n",
              "      display: none;\n",
              "      fill: #1967D2;\n",
              "      height: 32px;\n",
              "      padding: 0 0 0 0;\n",
              "      width: 32px;\n",
              "    }\n",
              "\n",
              "    .colab-df-convert:hover {\n",
              "      background-color: #E2EBFA;\n",
              "      box-shadow: 0px 1px 2px rgba(60, 64, 67, 0.3), 0px 1px 3px 1px rgba(60, 64, 67, 0.15);\n",
              "      fill: #174EA6;\n",
              "    }\n",
              "\n",
              "    .colab-df-buttons div {\n",
              "      margin-bottom: 4px;\n",
              "    }\n",
              "\n",
              "    [theme=dark] .colab-df-convert {\n",
              "      background-color: #3B4455;\n",
              "      fill: #D2E3FC;\n",
              "    }\n",
              "\n",
              "    [theme=dark] .colab-df-convert:hover {\n",
              "      background-color: #434B5C;\n",
              "      box-shadow: 0px 1px 3px 1px rgba(0, 0, 0, 0.15);\n",
              "      filter: drop-shadow(0px 1px 2px rgba(0, 0, 0, 0.3));\n",
              "      fill: #FFFFFF;\n",
              "    }\n",
              "  </style>\n",
              "\n",
              "    <script>\n",
              "      const buttonEl =\n",
              "        document.querySelector('#df-f5ecb244-1ae4-4307-bdcf-6b3d3e657390 button.colab-df-convert');\n",
              "      buttonEl.style.display =\n",
              "        google.colab.kernel.accessAllowed ? 'block' : 'none';\n",
              "\n",
              "      async function convertToInteractive(key) {\n",
              "        const element = document.querySelector('#df-f5ecb244-1ae4-4307-bdcf-6b3d3e657390');\n",
              "        const dataTable =\n",
              "          await google.colab.kernel.invokeFunction('convertToInteractive',\n",
              "                                                    [key], {});\n",
              "        if (!dataTable) return;\n",
              "\n",
              "        const docLinkHtml = 'Like what you see? Visit the ' +\n",
              "          '<a target=\"_blank\" href=https://colab.research.google.com/notebooks/data_table.ipynb>data table notebook</a>'\n",
              "          + ' to learn more about interactive tables.';\n",
              "        element.innerHTML = '';\n",
              "        dataTable['output_type'] = 'display_data';\n",
              "        await google.colab.output.renderOutput(dataTable, element);\n",
              "        const docLink = document.createElement('div');\n",
              "        docLink.innerHTML = docLinkHtml;\n",
              "        element.appendChild(docLink);\n",
              "      }\n",
              "    </script>\n",
              "  </div>\n",
              "\n",
              "\n",
              "<div id=\"df-c9be02c3-4521-468b-b5ad-46e8374c9721\">\n",
              "  <button class=\"colab-df-quickchart\" onclick=\"quickchart('df-c9be02c3-4521-468b-b5ad-46e8374c9721')\"\n",
              "            title=\"Suggest charts\"\n",
              "            style=\"display:none;\">\n",
              "\n",
              "<svg xmlns=\"http://www.w3.org/2000/svg\" height=\"24px\"viewBox=\"0 0 24 24\"\n",
              "     width=\"24px\">\n",
              "    <g>\n",
              "        <path d=\"M19 3H5c-1.1 0-2 .9-2 2v14c0 1.1.9 2 2 2h14c1.1 0 2-.9 2-2V5c0-1.1-.9-2-2-2zM9 17H7v-7h2v7zm4 0h-2V7h2v10zm4 0h-2v-4h2v4z\"/>\n",
              "    </g>\n",
              "</svg>\n",
              "  </button>\n",
              "\n",
              "<style>\n",
              "  .colab-df-quickchart {\n",
              "      --bg-color: #E8F0FE;\n",
              "      --fill-color: #1967D2;\n",
              "      --hover-bg-color: #E2EBFA;\n",
              "      --hover-fill-color: #174EA6;\n",
              "      --disabled-fill-color: #AAA;\n",
              "      --disabled-bg-color: #DDD;\n",
              "  }\n",
              "\n",
              "  [theme=dark] .colab-df-quickchart {\n",
              "      --bg-color: #3B4455;\n",
              "      --fill-color: #D2E3FC;\n",
              "      --hover-bg-color: #434B5C;\n",
              "      --hover-fill-color: #FFFFFF;\n",
              "      --disabled-bg-color: #3B4455;\n",
              "      --disabled-fill-color: #666;\n",
              "  }\n",
              "\n",
              "  .colab-df-quickchart {\n",
              "    background-color: var(--bg-color);\n",
              "    border: none;\n",
              "    border-radius: 50%;\n",
              "    cursor: pointer;\n",
              "    display: none;\n",
              "    fill: var(--fill-color);\n",
              "    height: 32px;\n",
              "    padding: 0;\n",
              "    width: 32px;\n",
              "  }\n",
              "\n",
              "  .colab-df-quickchart:hover {\n",
              "    background-color: var(--hover-bg-color);\n",
              "    box-shadow: 0 1px 2px rgba(60, 64, 67, 0.3), 0 1px 3px 1px rgba(60, 64, 67, 0.15);\n",
              "    fill: var(--button-hover-fill-color);\n",
              "  }\n",
              "\n",
              "  .colab-df-quickchart-complete:disabled,\n",
              "  .colab-df-quickchart-complete:disabled:hover {\n",
              "    background-color: var(--disabled-bg-color);\n",
              "    fill: var(--disabled-fill-color);\n",
              "    box-shadow: none;\n",
              "  }\n",
              "\n",
              "  .colab-df-spinner {\n",
              "    border: 2px solid var(--fill-color);\n",
              "    border-color: transparent;\n",
              "    border-bottom-color: var(--fill-color);\n",
              "    animation:\n",
              "      spin 1s steps(1) infinite;\n",
              "  }\n",
              "\n",
              "  @keyframes spin {\n",
              "    0% {\n",
              "      border-color: transparent;\n",
              "      border-bottom-color: var(--fill-color);\n",
              "      border-left-color: var(--fill-color);\n",
              "    }\n",
              "    20% {\n",
              "      border-color: transparent;\n",
              "      border-left-color: var(--fill-color);\n",
              "      border-top-color: var(--fill-color);\n",
              "    }\n",
              "    30% {\n",
              "      border-color: transparent;\n",
              "      border-left-color: var(--fill-color);\n",
              "      border-top-color: var(--fill-color);\n",
              "      border-right-color: var(--fill-color);\n",
              "    }\n",
              "    40% {\n",
              "      border-color: transparent;\n",
              "      border-right-color: var(--fill-color);\n",
              "      border-top-color: var(--fill-color);\n",
              "    }\n",
              "    60% {\n",
              "      border-color: transparent;\n",
              "      border-right-color: var(--fill-color);\n",
              "    }\n",
              "    80% {\n",
              "      border-color: transparent;\n",
              "      border-right-color: var(--fill-color);\n",
              "      border-bottom-color: var(--fill-color);\n",
              "    }\n",
              "    90% {\n",
              "      border-color: transparent;\n",
              "      border-bottom-color: var(--fill-color);\n",
              "    }\n",
              "  }\n",
              "</style>\n",
              "\n",
              "  <script>\n",
              "    async function quickchart(key) {\n",
              "      const quickchartButtonEl =\n",
              "        document.querySelector('#' + key + ' button');\n",
              "      quickchartButtonEl.disabled = true;  // To prevent multiple clicks.\n",
              "      quickchartButtonEl.classList.add('colab-df-spinner');\n",
              "      try {\n",
              "        const charts = await google.colab.kernel.invokeFunction(\n",
              "            'suggestCharts', [key], {});\n",
              "      } catch (error) {\n",
              "        console.error('Error during call to suggestCharts:', error);\n",
              "      }\n",
              "      quickchartButtonEl.classList.remove('colab-df-spinner');\n",
              "      quickchartButtonEl.classList.add('colab-df-quickchart-complete');\n",
              "    }\n",
              "    (() => {\n",
              "      let quickchartButtonEl =\n",
              "        document.querySelector('#df-c9be02c3-4521-468b-b5ad-46e8374c9721 button');\n",
              "      quickchartButtonEl.style.display =\n",
              "        google.colab.kernel.accessAllowed ? 'block' : 'none';\n",
              "    })();\n",
              "  </script>\n",
              "</div>\n",
              "\n",
              "    </div>\n",
              "  </div>\n"
            ],
            "text/plain": [
              "                                                text  target  C1  C2  C3  C4  \\\n",
              "0  Comenta-se que o ex presidente Lula ex-preside...       0   0   0   0   0   \n",
              "1  Amazonas, sem ela ele os dias do brasil Brasil...       0   0   0   0   0   \n",
              "2  Eu acredito que os dois são muito importantes ...       0   0   0   0   0   \n",
              "3  Assunto que repercute de forma constante nos a...       0   0   0   0   0   \n",
              "4  O supremo tribunal federal Supremo Tribunal Fe...       0   0   0   0   0   \n",
              "\n",
              "   C5  score                                             prompt  \n",
              "0   0      0  No início deste mês de novembro, o Supremo Tri...  \n",
              "1   0      0  No final de agosto passado, as queimadas na fl...  \n",
              "2   0      0  De modo geral, não é segredo para ninguém que ...  \n",
              "3   0      0  No início deste mês de novembro, o Supremo Tri...  \n",
              "4   0      0  Ao longo dos últimos dez anos, o papel do STF ...  "
            ]
          },
          "execution_count": 4,
          "metadata": {},
          "output_type": "execute_result"
        }
      ],
      "source": [
        "df.head()"
      ]
    },
    {
      "cell_type": "markdown",
      "metadata": {
        "id": "9WCaOZ-GGZIE"
      },
      "source": [
        "### Converter para o Formato da AIBoxLab"
      ]
    },
    {
      "cell_type": "code",
      "execution_count": null,
      "metadata": {
        "id": "YXRbaulrCCmK"
      },
      "outputs": [],
      "source": [
        "# Remover duplicados com base no texto\n",
        "df = df.drop_duplicates(subset='text')\n",
        "\n",
        "# Considerando que queremos prever a 'target'\n",
        "# Vamos também remover redações sem nota\n",
        "df = df.dropna(subset=['target', 'text'])\n",
        "\n",
        "# Criar o dataset da AIBoxLab\n",
        "dataset = DatasetDF(df, text_column='text', target_column='target')\n"
      ]
    },
    {
      "cell_type": "markdown",
      "metadata": {
        "id": "YGl5E7-xHAMu"
      },
      "source": [
        "## 2. Analisar o Dataset Através de Gráficos"
      ]
    },
    {
      "cell_type": "markdown",
      "metadata": {
        "id": "VHDFwUL8HGg2"
      },
      "source": [
        "### Distribuição de Redações por Nota Final"
      ]
    },
    {
      "cell_type": "code",
      "execution_count": null,
      "metadata": {
        "colab": {
          "base_uri": "https://localhost:8080/",
          "height": 564
        },
        "id": "8kVKPfBsHBS8",
        "outputId": "66a18abb-e32c-44e2-df93-85c5863cf0e8"
      },
      "outputs": [
        {
          "data": {
            "image/png": "[encoded data removed]",
            "text/plain": [
              "<Figure size 1000x600 with 1 Axes>"
            ]
          },
          "metadata": {},
          "output_type": "display_data"
        }
      ],
      "source": [
        "plt.figure(figsize=(10,6))\n",
        "sns.countplot(x='target', data=df)\n",
        "plt.title('Distribuição de Redações por Nota Final')\n",
        "plt.xlabel('Nota Final')\n",
        "plt.ylabel('Quantidade de Redações')\n",
        "plt.show()\n"
      ]
    },
    {
      "cell_type": "markdown",
      "metadata": {
        "id": "D4j3RpUqHI1o"
      },
      "source": [
        "### Palavras Mais Recorrentes em Redações com Nota < 5 e > 8"
      ]
    },
    {
      "cell_type": "code",
      "execution_count": null,
      "metadata": {
        "id": "ccmjtifrHLCg"
      },
      "outputs": [],
      "source": [
        "stop_words = set(stopwords.words('portuguese'))\n",
        "\n",
        "def get_top_words(texts, n=20):\n",
        "    all_words = ' '.join(texts).split()\n",
        "    all_words = [word for word in all_words if word not in stop_words and len(word)>3]\n",
        "    counter = Counter(all_words)\n",
        "    return counter.most_common(n)\n"
      ]
    },
    {
      "cell_type": "markdown",
      "metadata": {
        "id": "TaJOa88ZHU-J"
      },
      "source": [
        "#### Redações com Nota < 5"
      ]
    },
    {
      "cell_type": "code",
      "execution_count": null,
      "metadata": {
        "colab": {
          "base_uri": "https://localhost:8080/",
          "height": 565
        },
        "id": "TJ71leBoHVfd",
        "outputId": "f636edab-a4e1-423d-e3ab-69175d646bbb"
      },
      "outputs": [
        {
          "data": {
            "image/png": "[encoded data removed]",
            "text/plain": [
              "<Figure size 1000x600 with 1 Axes>"
            ]
          },
          "metadata": {},
          "output_type": "display_data"
        }
      ],
      "source": [
        "texts_below_5 = df[df['target'] < 500]['text']\n",
        "top_words_below_5 = get_top_words(texts_below_5)\n",
        "\n",
        "# Plotar\n",
        "words, counts = zip(*top_words_below_5)\n",
        "plt.figure(figsize=(10,6))\n",
        "sns.barplot(x=list(counts), y=list(words))\n",
        "plt.title('Palavras Mais Frequentes em Redações com Nota < 5')\n",
        "plt.xlabel('Frequência')\n",
        "plt.ylabel('Palavras')\n",
        "plt.show()\n"
      ]
    },
    {
      "cell_type": "markdown",
      "metadata": {
        "id": "6k3mixsbHX5x"
      },
      "source": [
        "#### Redações com Nota > 8"
      ]
    },
    {
      "cell_type": "code",
      "execution_count": null,
      "metadata": {
        "colab": {
          "base_uri": "https://localhost:8080/",
          "height": 565
        },
        "id": "CL9tgqIoHYWe",
        "outputId": "6911962c-c5cf-4833-db52-35ad8f31d1ba"
      },
      "outputs": [
        {
          "data": {
            "image/png": "[encoded data removed]",
            "text/plain": [
              "<Figure size 1000x600 with 1 Axes>"
            ]
          },
          "metadata": {},
          "output_type": "display_data"
        }
      ],
      "source": [
        "texts_above_8 = df[df['target'] > 800]['text']\n",
        "top_words_above_8 = get_top_words(texts_above_8)\n",
        "\n",
        "# Plotar\n",
        "words, counts = zip(*top_words_above_8)\n",
        "plt.figure(figsize=(10,6))\n",
        "sns.barplot(x=list(counts), y=list(words))\n",
        "plt.title('Palavras Mais Frequentes em Redações com Nota > 8')\n",
        "plt.xlabel('Frequência')\n",
        "plt.ylabel('Palavras')\n",
        "plt.show()\n"
      ]
    },
    {
      "cell_type": "markdown",
      "metadata": {
        "id": "RWxbYkNeHaSm"
      },
      "source": [
        "### Média de Palavras em Redações com Nota < 5 e >= 5"
      ]
    },
    {
      "cell_type": "code",
      "execution_count": null,
      "metadata": {
        "colab": {
          "base_uri": "https://localhost:8080/"
        },
        "id": "Wnh8TeLgHa0l",
        "outputId": "8cf4e9db-6bfe-4fc1-efab-5cc07f5d6474"
      },
      "outputs": [
        {
          "name": "stdout",
          "output_type": "stream",
          "text": [
            "Média de palavras em redações com nota < 5: 229.94\n",
            "Média de palavras em redações com nota >= 5: 305.46\n"
          ]
        }
      ],
      "source": [
        "df['word_count'] = df['text'].apply(lambda x: len(x.split()))\n",
        "\n",
        "# Média de palavras\n",
        "mean_words_below_5 = df[df['target'] < 500]['word_count'].mean()\n",
        "mean_words_above_5 = df[df['target'] >= 500]['word_count'].mean()\n",
        "\n",
        "print(f\"Média de palavras em redações com nota < 5: {mean_words_below_5:.2f}\")\n",
        "print(f\"Média de palavras em redações com nota >= 5: {mean_words_above_5:.2f}\")\n"
      ]
    },
    {
      "cell_type": "markdown",
      "metadata": {
        "id": "qWC6VrrMHcA-"
      },
      "source": [
        "### Histograma do Número de Palavras"
      ]
    },
    {
      "cell_type": "code",
      "execution_count": null,
      "metadata": {
        "colab": {
          "base_uri": "https://localhost:8080/",
          "height": 565
        },
        "id": "I8-qglTXHd5f",
        "outputId": "a241691a-da6c-4bec-c907-e2d8c7674ef8"
      },
      "outputs": [
        {
          "data": {
            "image/png": "[encoded data removed]",
            "text/plain": [
              "<Figure size 1000x600 with 1 Axes>"
            ]
          },
          "metadata": {},
          "output_type": "display_data"
        }
      ],
      "source": [
        "plt.figure(figsize=(10,6))\n",
        "sns.histplot(data=df, x='word_count', bins=30, kde=True)\n",
        "plt.title('Distribuição do Número de Palavras nas Redações')\n",
        "plt.xlabel('Número de Palavras')\n",
        "plt.ylabel('Quantidade de Redações')\n",
        "plt.show()\n"
      ]
    },
    {
      "cell_type": "markdown",
      "metadata": {
        "id": "OsxV3JNoHys3"
      },
      "source": [
        "## 3. Extração de Features"
      ]
    },
    {
      "cell_type": "markdown",
      "metadata": {
        "id": "cwSm_n6xH09H"
      },
      "source": [
        "### Criação do extrator de features"
      ]
    },
    {
      "cell_type": "code",
      "execution_count": null,
      "metadata": {
        "colab": {
          "base_uri": "https://localhost:8080/"
        },
        "id": "r5oloOuSoy2x",
        "outputId": "a5d94530-4e8e-4fc3-cea5-8e4e2c12b521"
      },
      "outputs": [
        {
          "name": "stderr",
          "output_type": "stream",
          "text": [
            "nlpbox: download dictionary/biderman-words.v1: 100%|██████████| 22.4k/22.4k [00:00<00:00, 5.05MB/s]\n",
            "nlpbox: download feature_models/semantic_cohesion.v1: 100%|██████████| 1.42G/1.42G [00:57<00:00, 26.3MB/s]\n",
            "nlpbox: download dictionary/biderman-concrete-words.v1: 100%|██████████| 26.2k/26.2k [00:00<00:00, 6.55MB/s]\n"
          ]
        }
      ],
      "source": [
        "features_br = [\"cohmetrixBR\",\n",
        "               \"lexicalDiversityBR\",\n",
        "               \"syntacticComplexityBR\",\n",
        "               \"readabilityBR\",\n",
        "               \"semanticCohesionBR\",\n",
        "               \"textualSimplicityBR\"\n",
        "               ]\n",
        "\n",
        "feature_extractor = get_extractor(features_br)"
      ]
    },
    {
      "cell_type": "code",
      "execution_count": null,
      "metadata": {
        "colab": {
          "base_uri": "https://localhost:8080/",
          "height": 1000,
          "referenced_widgets": [
            "d09b4b390bf44d00819c7a0d778ab0e0",
            "871e50fbe6f446b893df675a2b63c6d3",
            "952270a4305e43a08505b224a9708c1c",
            "bb77b73aa9384ef596cd119904b9c60a",
            "21087a4d72234bd897f9d40473b4e2f4",
            "759ba4694a014edaac6900c43c00d706",
            "27db80d26ebb446190c99e13c30a6c25",
            "5dcc4f354c294909a625a247df144c26",
            "67c26a5a08694c35ab1e709c8eb2c9d9",
            "95c00ca6a87d461c8bd4d56414956720",
            "96718b011da443c69ea3a0d10e736ad8"
          ]
        },
        "id": "eesoRV9eq_Mn",
        "outputId": "cef0c3f8-c85e-4dd2-863f-9425915cc5d8"
      },
      "outputs": [
        {
          "data": {
            "application/vnd.jupyter.widget-view+json": {
              "model_id": "d09b4b390bf44d00819c7a0d778ab0e0",
              "version_major": 2,
              "version_minor": 0
            },
            "text/plain": [
              "cohmetrix-BR: download cbow_s50.zip:   0%|          | 0.00/162M [00:00<?, ?B/s]"
            ]
          },
          "metadata": {},
          "output_type": "display_data"
        },
        {
          "name": "stdout",
          "output_type": "stream",
          "text": [
            "{\n",
            "  \"adapted_dalechall\": 5.09875968992248,\n",
            "  \"adverbs_before_main_verb_ratio\": 0.16666666666666666,\n",
            "  \"brunet_indice\": 9.066469756208491,\n",
            "  \"clauses_per_sentence\": 2.0,\n",
            "  \"cncadc\": 1.0,\n",
            "  \"cncadd\": 4.0,\n",
            "  \"cncall\": 3.0,\n",
            "  \"cncalter\": 0.0,\n",
            "  \"cnccaus\": 0.0,\n",
            "  \"cnccomp\": 1.0,\n",
            "  \"cncconce\": 1.0,\n",
            "  \"cncconclu\": 0.0,\n",
            "  \"cnccondi\": 0.0,\n",
            "  \"cncconfor\": 2.0,\n",
            "  \"cncconse\": 1.0,\n",
            "  \"cncexpli\": 1.0,\n",
            "  \"cncfinal\": 1.0,\n",
            "  \"cncinte\": 1.0,\n",
            "  \"cnclogic\": 3.0,\n",
            "  \"cncneg\": 2.0,\n",
            "  \"cncpos\": 17.0,\n",
            "  \"cncprop\": 0.0,\n",
            "  \"cnctemp\": 0.0,\n",
            "  \"coord_conj_ratio\": 1.0,\n",
            "  \"coordinate_conjunctions_per_clauses\": 0.5,\n",
            "  \"crfao1\": 1.0,\n",
            "  \"crfaoa\": 1.0,\n",
            "  \"crfcwo1\": 0.05499181669394435,\n",
            "  \"crfcwo1d\": 0.008837970540098196,\n",
            "  \"crfcwoa\": 0.04203755521531774,\n",
            "  \"crfcwoad\": 0.019690071857622927,\n",
            "  \"crfno1\": 1.0,\n",
            "  \"crfnoa\": 1.0,\n",
            "  \"crfso1\": 1.0,\n",
            "  \"crfsoa\": 1.0,\n",
            "  \"cross_entropy\": 0.5307765240131274,\n",
            "  \"despc\": 1.0,\n",
            "  \"despc2\": 1.0,\n",
            "  \"despl\": 3.0,\n",
            "  \"despld\": 0.0,\n",
            "  \"dessc\": 3.0,\n",
            "  \"dessl\": 29.333333333333332,\n",
            "  \"dessld\": 8.339997335464536,\n",
            "  \"deswc\": 101.0,\n",
            "  \"deswllt\": 5.261363636363637,\n",
            "  \"deswlltd\": 3.4558722033591485,\n",
            "  \"deswlsy\": 2.0594059405940595,\n",
            "  \"deswlsyd\": 1.333660058652098,\n",
            "  \"dialog_pron_ratio\": 0,\n",
            "  \"drap\": 0.0,\n",
            "  \"drgerund\": 0.0,\n",
            "  \"drinf\": 0.0,\n",
            "  \"drneg\": 0.0,\n",
            "  \"drnp\": 0.0,\n",
            "  \"drpp\": 0.0,\n",
            "  \"drpval\": 3.0,\n",
            "  \"drvp\": 3.0,\n",
            "  \"easy_conj_ratio\": 0.12790697674418605,\n",
            "  \"flesch_indice\": 30.863914728682204,\n",
            "  \"guiraud_index\": 0.7586206896551724,\n",
            "  \"gunning_fox_indice\": 11.606201550387597,\n",
            "  \"hapax_legomena\": 55,\n",
            "  \"hard_conj_ratio\": 0.023255813953488372,\n",
            "  \"honore_statistics\": 1373.4939003829327,\n",
            "  \"infinite_subordinate_clauses\": 0.3333333333333333,\n",
            "  \"ldmtlda\": 176.60999999999996,\n",
            "  \"ldttra\": 0.8620689655172413,\n",
            "  \"ldttrc\": 0.9767441860465116,\n",
            "  \"ldvocda\": 0.9143906700369633,\n",
            "  \"lexical_density\": 0.5747126436781609,\n",
            "  \"lexical_diversity\": 0.9555555555555556,\n",
            "  \"lexical_diversity_mtld\": 102.08,\n",
            "  \"long_sentence_ratio\": 1.0,\n",
            "  \"lsa_adj_mean\": 0.860192189998102,\n",
            "  \"lsa_adj_std\": 0.0023556774298619243,\n",
            "  \"lsa_all_mean\": 0.8185351999939133,\n",
            "  \"lsa_all_std\": 0.05894327026772306,\n",
            "  \"lsa_givenness_mean\": 0.8373077243992925,\n",
            "  \"lsa_givenness_std\": 0.025240143028671502,\n",
            "  \"lsa_paragraph_mean\": 0,\n",
            "  \"lsa_paragraph_std\": 0,\n",
            "  \"lsa_span_mean\": 0.8602173623264638,\n",
            "  \"lsa_span_std\": 0.0023305082341734673,\n",
            "  \"medium_long_sentence_ratio\": 0.0,\n",
            "  \"medium_short_sentence_ratio\": 0.0,\n",
            "  \"passive_ratio\": 0.3333333333333333,\n",
            "  \"pos_dissimilarity\": 0.31794131794131797,\n",
            "  \"ratio_adj\": 0.17777777777777778,\n",
            "  \"ratio_adp\": 0.022222222222222223,\n",
            "  \"ratio_adv\": 0.022222222222222223,\n",
            "  \"ratio_aux\": 0,\n",
            "  \"ratio_det\": 0,\n",
            "  \"ratio_noun\": 0.5555555555555556,\n",
            "  \"ratio_propn\": 0.1111111111111111,\n",
            "  \"ratio_verb\": 0.1111111111111111,\n",
            "  \"rdfkgl\": 21.93418604651163,\n",
            "  \"rdfre\": -11.136085271317796,\n",
            "  \"rdl2\": 9.121159246615008,\n",
            "  \"readibility_indice\": 18.04158914728682,\n",
            "  \"sentences_with_1_clauses\": 2,\n",
            "  \"sentences_with_2_clauses\": 0,\n",
            "  \"sentences_with_3_clauses\": 0,\n",
            "  \"sentences_with_4_clauses\": 1,\n",
            "  \"sentences_with_5_clauses\": 0,\n",
            "  \"sentences_with_6_clauses\": 0,\n",
            "  \"sentences_with_7_clauses\": 0,\n",
            "  \"short_sentence_ratio\": 0.0,\n",
            "  \"simple_word_ratio\": 0.0,\n",
            "  \"smcauswn\": 5.0,\n",
            "  \"smintep\": 1.0,\n",
            "  \"smintep_sentence\": 1.0,\n",
            "  \"sminter\": 0.5,\n",
            "  \"std_noun_phrase\": 1.1386685544982444,\n",
            "  \"subord_conj_ratio\": 0.0,\n",
            "  \"synle\": 5.0,\n",
            "  \"synmedlem\": 0.9625,\n",
            "  \"synmedpos\": 0.775,\n",
            "  \"synmedwrd\": 0.9625,\n",
            "  \"synnp\": 0.0,\n",
            "  \"synstruta\": 0.8364750050678612,\n",
            "  \"synstrutt\": 0.8364750050678612,\n",
            "  \"token_var_idx\": 105.73048512895602,\n",
            "  \"words_before_main_verb\": 6,\n",
            "  \"wrdadj\": 8.0,\n",
            "  \"wrdadv\": 5.0,\n",
            "  \"wrdaoac\": 432.53846153846155,\n",
            "  \"wrdcncc\": 276.8666666666667,\n",
            "  \"wrdfamc\": 579.5409836065573,\n",
            "  \"wrdfrqa\": 0.0,\n",
            "  \"wrdfrqc\": 1.0,\n",
            "  \"wrdfrqmc\": 0.0,\n",
            "  \"wrdimgc\": 302.9344262295082,\n",
            "  \"wrdmeac\": 308.0208333333333,\n",
            "  \"wrdnoun\": 25.0,\n",
            "  \"wrdpro\": 1.0,\n",
            "  \"wrdprp1p\": 0.0,\n",
            "  \"wrdprp1s\": 0.0,\n",
            "  \"wrdprp2\": 0.0,\n",
            "  \"wrdprp2p\": 0.0,\n",
            "  \"wrdprp2s\": 0.0,\n",
            "  \"wrdprp3p\": 0.0,\n",
            "  \"wrdprp3s\": 0.0,\n",
            "  \"wrdverb\": 5.0,\n",
            "  \"yule_k\": 63.41656757827983\n",
            "}\n"
          ]
        }
      ],
      "source": [
        "extraction = feature_extractor.extract(\"O poeta modernista Oswald de Andrade relata, em \\\"Erro de Português\\\", que, sob um dia de chuva, o índio foi vestido pelo português - uma denúncia à aculturação sofrida pelos povos indígenas com a chegada dos europeus ao território brasileiro. Paralelamente, no Brasil atual, há a manutenção de práticas prejudiciais não só aos silvícolas, mas também aos demais povos e comunidades tradicionais, como os pescadores. Com efeito, atuam como desafios para a valorização desses grupos a educação deficiente acerca do tema e a ausência do desenvolvimento sustentável.\")\n",
        "print(json.dumps(extraction.as_dict(), indent=2, ensure_ascii=False))"
      ]
    },
    {
      "cell_type": "markdown",
      "metadata": {
        "id": "g4HkOXn3XMwn"
      },
      "source": [
        "### Extrair features por batch"
      ]
    },
    {
      "cell_type": "code",
      "execution_count": null,
      "metadata": {
        "colab": {
          "base_uri": "https://localhost:8080/"
        },
        "id": "LMZo1j7sXbqW",
        "outputId": "984ce98c-a2d2-4d3e-80ad-f0a4b851ae24"
      },
      "outputs": [
        {
          "name": "stdout",
          "output_type": "stream",
          "text": [
            "Processando batch 1/7\n"
          ]
        },
        {
          "name": "stderr",
          "output_type": "stream",
          "text": [
            "100%|██████████| 938/938 [27:47<00:00,  1.78s/it]\n"
          ]
        },
        {
          "name": "stdout",
          "output_type": "stream",
          "text": [
            "Processando batch 2/7\n"
          ]
        },
        {
          "name": "stderr",
          "output_type": "stream",
          "text": [
            "100%|██████████| 938/938 [34:43<00:00,  2.22s/it]\n"
          ]
        },
        {
          "name": "stdout",
          "output_type": "stream",
          "text": [
            "Processando batch 3/7\n"
          ]
        },
        {
          "name": "stderr",
          "output_type": "stream",
          "text": [
            "100%|██████████| 938/938 [35:58<00:00,  2.30s/it]\n"
          ]
        },
        {
          "name": "stdout",
          "output_type": "stream",
          "text": [
            "Processando batch 4/7\n"
          ]
        },
        {
          "name": "stderr",
          "output_type": "stream",
          "text": [
            "100%|██████████| 938/938 [37:51<00:00,  2.42s/it]\n"
          ]
        },
        {
          "name": "stdout",
          "output_type": "stream",
          "text": [
            "Processando batch 5/7\n"
          ]
        },
        {
          "name": "stderr",
          "output_type": "stream",
          "text": [
            "100%|██████████| 938/938 [39:48<00:00,  2.55s/it]\n"
          ]
        },
        {
          "name": "stdout",
          "output_type": "stream",
          "text": [
            "Processando batch 6/7\n"
          ]
        },
        {
          "name": "stderr",
          "output_type": "stream",
          "text": [
            "100%|██████████| 937/937 [36:11<00:00,  2.32s/it]\n"
          ]
        },
        {
          "name": "stdout",
          "output_type": "stream",
          "text": [
            "Processando batch 7/7\n"
          ]
        },
        {
          "name": "stderr",
          "output_type": "stream",
          "text": [
            "100%|██████████| 937/937 [32:16<00:00,  2.07s/it]\n"
          ]
        }
      ],
      "source": [
        "batch_size = 1000\n",
        "num_batches = int(np.ceil(len(df) / batch_size))\n",
        "\n",
        "batches = np.array_split(df, num_batches)\n",
        "\n",
        "start_batch = 0\n",
        "\n",
        "for i in range(start_batch, num_batches):\n",
        "    batch = batches[i]\n",
        "    print(f\"Processando batch {i + 1}/{num_batches}\")\n",
        "\n",
        "    extraction = [features.as_dict() for features in tqdm(map(feature_extractor.extract, batch[\"text\"]), total=len(batch[\"text\"]))]\n",
        "\n",
        "    X = extraction\n",
        "    y = batch.target\n",
        "\n",
        "    y_df = y.reset_index(drop=True)\n",
        "    X_df = pd.DataFrame(X).reset_index(drop=True)\n",
        "\n",
        "    y_df = y_df.rename(\"target\")\n",
        "\n",
        "    complete_df = pd.concat([X_df, y_df], axis=1)\n",
        "\n",
        "    complete_df.to_csv(f\"batch_{i + 1}.csv\", index=False)"
      ]
    },
    {
      "cell_type": "markdown",
      "metadata": {
        "id": "YEmlGwHKat0j"
      },
      "source": [
        "Concatenar batches"
      ]
    },
    {
      "cell_type": "code",
      "execution_count": null,
      "metadata": {
        "colab": {
          "base_uri": "https://localhost:8080/"
        },
        "id": "8DYjEc5Fat9i",
        "outputId": "671a3db1-6653-4a42-a114-eb58008705f0"
      },
      "outputs": [
        {
          "name": "stdout",
          "output_type": "stream",
          "text": [
            "   adapted_dalechall  adverbs_before_main_verb_ratio  brunet_indice  \\\n",
            "0           5.233888                        0.862069      11.438403   \n",
            "1           5.160748                        0.562500      11.084368   \n",
            "2           5.202344                        0.413793      11.021616   \n",
            "3           4.716115                        0.517241      10.877543   \n",
            "4           4.805250                        0.384615      11.990433   \n",
            "\n",
            "   clauses_per_sentence  cncadc  cncadd  cncall  cncalter  cnccaus  cnccomp  \\\n",
            "0              2.416667     0.0    13.0     8.0       1.0     17.0     16.0   \n",
            "1              2.666667     2.0    12.0     7.0       0.0      9.0      8.0   \n",
            "2              2.636364     3.0     5.0     7.0       2.0     11.0     11.0   \n",
            "3              2.416667     1.0    12.0     8.0       0.0      9.0     10.0   \n",
            "4              2.600000     0.0    11.0     8.0       1.0      5.0      4.0   \n",
            "\n",
            "   ...  wrdprp1p  wrdprp1s  wrdprp2  wrdprp2p  wrdprp2s  wrdprp3p  wrdprp3s  \\\n",
            "0  ...       0.0       0.0      0.0       0.0       0.0       0.0       0.0   \n",
            "1  ...       0.0       0.0      0.0       0.0       0.0       0.0       0.0   \n",
            "2  ...       0.0       0.0      0.0       0.0       0.0       0.0       0.0   \n",
            "3  ...       0.0       0.0      0.0       0.0       0.0       0.0       0.0   \n",
            "4  ...       0.0       0.0      0.0       0.0       0.0       0.0       0.0   \n",
            "\n",
            "   wrdverb      yule_k  target  \n",
            "0     41.0  102.280444     760  \n",
            "1     41.0  110.318637     760  \n",
            "2     46.0   75.704179     760  \n",
            "3     35.0  115.236266     760  \n",
            "4     45.0  130.056723     760  \n",
            "\n",
            "[5 rows x 145 columns]\n"
          ]
        }
      ],
      "source": [
        "batch_files_pattern = 'batch_*.csv'\n",
        "batch_files = glob.glob(batch_files_pattern)\n",
        "\n",
        "batch_dfs = []\n",
        "\n",
        "for batch_file in batch_files:\n",
        "    df = pd.read_csv(batch_file)\n",
        "    batch_dfs.append(df)\n",
        "\n",
        "concatenated_df = pd.concat(batch_dfs, ignore_index=True)\n",
        "\n",
        "print(concatenated_df.head())\n",
        "\n",
        "concatenated_df.to_csv('essay.csv', index=False)"
      ]
    },
    {
      "cell_type": "markdown",
      "metadata": {
        "id": "7xjj4Atl7Krg"
      },
      "source": [
        "## 4. Salvar conjunto de treino e teste"
      ]
    },
    {
      "cell_type": "code",
      "execution_count": 36,
      "metadata": {
        "colab": {
          "base_uri": "https://localhost:8080/"
        },
        "id": "O6vYXtCGHzT3",
        "outputId": "54f9c7d4-a73f-4d0b-c2e7-c3d8272bdd3a"
      },
      "outputs": [
        {
          "name": "stdout",
          "output_type": "stream",
          "text": [
            "Os arquivos de treino e teste foram salvos com sucesso.\n"
          ]
        }
      ],
      "source": [
        "# Carregar o dataset CSV\n",
        "df = pd.read_csv('essay.csv')\n",
        "\n",
        "# Definir os intervalos de notas\n",
        "bins = [0, 200, 400, 600, 800, 1000]\n",
        "labels = [0, 1, 2, 3, 4]\n",
        "\n",
        "# bins = [0, 400, 700, 1000]  # Definir os intervalos das classes\n",
        "# labels = [0, 1, 2]\n",
        "\n",
        "# Agrupar as notas em classes maiores\n",
        "df['nota_classe'] = pd.cut(df['target'], bins=bins, labels=labels, include_lowest=True)\n",
        "\n",
        "# Separar as features (X) e o novo target (y)\n",
        "X = df.drop(columns=['target', 'nota_classe'])  # Todas as colunas exceto as notas e a classe\n",
        "y = df['nota_classe']  # A coluna com as classes das notas\n",
        "\n",
        "# Dividir os dados em treino e teste\n",
        "X_train, X_test, y_train, y_test = train_test_split(X, y, test_size=0.2, random_state=42)\n",
        "\n",
        "# Normalizar os dados (StandardScaler)\n",
        "scaler = StandardScaler()\n",
        "X_train_scaled = scaler.fit_transform(X_train)\n",
        "X_test_scaled = scaler.transform(X_test)\n",
        "\n",
        "# Convertendo os dados normalizados de volta para DataFrame e adicionando a coluna 'target'\n",
        "X_train_scaled_df = pd.DataFrame(X_train_scaled, columns=X.columns)\n",
        "X_train_scaled_df['target'] = y_train.values  # Adicionando a coluna 'target'\n",
        "\n",
        "X_test_scaled_df = pd.DataFrame(X_test_scaled, columns=X.columns)\n",
        "X_test_scaled_df['target'] = y_test.values  # Adicionando a coluna 'target'\n",
        "\n",
        "# Salvar os dados normalizados com o target em CSV\n",
        "X_train_scaled_df.to_csv('essay_train_scaled.csv', index=False)\n",
        "X_test_scaled_df.to_csv('essay_test_scaled.csv', index=False)\n",
        "\n",
        "print(\"Os arquivos de treino e teste foram salvos com sucesso.\")"
      ]
    },
    {
      "cell_type": "code",
      "execution_count": 37,
      "metadata": {
        "colab": {
          "base_uri": "https://localhost:8080/",
          "height": 564
        },
        "id": "ENQqgq5MR5pK",
        "outputId": "7a72065e-63ac-4384-f623-b0299f00fb73"
      },
      "outputs": [
        {
          "data": {
            "image/png": "[encoded data removed]",
            "text/plain": [
              "<Figure size 1000x600 with 1 Axes>"
            ]
          },
          "metadata": {},
          "output_type": "display_data"
        }
      ],
      "source": [
        "plt.figure(figsize=(10,6))\n",
        "sns.countplot(x='target', data=X_train_scaled_df)\n",
        "plt.title('Distribuição de Redações por Nota Final')\n",
        "plt.xlabel('Nota Final')\n",
        "plt.ylabel('Quantidade de Redações')\n",
        "plt.show()"
      ]
    },
    {
      "cell_type": "markdown",
      "metadata": {
        "id": "3kVvdWQP_9oh"
      },
      "source": [
        "### [Optional] SMOTE para o desbalanceamento de classes"
      ]
    },
    {
      "cell_type": "code",
      "execution_count": 40,
      "metadata": {
        "colab": {
          "base_uri": "https://localhost:8080/"
        },
        "id": "AH_I5wq0AAPJ",
        "outputId": "8daeee4c-7ce9-4724-a3dc-71457884b788"
      },
      "outputs": [
        {
          "name": "stdout",
          "output_type": "stream",
          "text": [
            "Distribuição de classes após SMOTE no conjunto de treino:\n",
            "nota_classe\n",
            "0    2106\n",
            "1    2106\n",
            "2    2106\n",
            "3    2106\n",
            "4    2106\n",
            "Name: count, dtype: int64\n"
          ]
        }
      ],
      "source": [
        "# Aplicar SMOTE para balancear as classes\n",
        "smote = SMOTE(random_state=42)\n",
        "X_train_smote, y_train_smote = smote.fit_resample(X_train_scaled, y_train)\n",
        "\n",
        "# Confirmar a distribuição de classes após SMOTE\n",
        "print(\"Distribuição de classes após SMOTE no conjunto de treino:\")\n",
        "print(y_train_smote.value_counts())\n",
        "\n",
        "X_train_smote_df = pd.DataFrame(X_train_smote, columns=X.columns)\n",
        "X_train_smote_df['target'] = y_train_smote.values  # Adicionando a coluna 'target'\n",
        "\n",
        "X_train_smote_df.to_csv('essay_train_smote.csv', index=False)"
      ]
    },
    {
      "cell_type": "code",
      "execution_count": 44,
      "metadata": {
        "colab": {
          "base_uri": "https://localhost:8080/",
          "height": 564
        },
        "id": "FFP-ZcypaPLX",
        "outputId": "fd0abc80-c020-490b-d66f-8c4161bbca0d"
      },
      "outputs": [
        {
          "data": {
            "image/png": "[encoded data removed]",
            "text/plain": [
              "<Figure size 1000x600 with 1 Axes>"
            ]
          },
          "metadata": {},
          "output_type": "display_data"
        }
      ],
      "source": [
        "plt.figure(figsize=(10,6))\n",
        "sns.countplot(x='target', data=X_train_smote_df)\n",
        "plt.title('Distribuição de Redações por Nota Final')\n",
        "plt.xlabel('Nota Final')\n",
        "plt.ylabel('Quantidade de Redações')\n",
        "plt.show()"
      ]
    },
    {
      "cell_type": "markdown",
      "metadata": {
        "id": "Lzep4DxfH2nU"
      },
      "source": [
        "## 5. Treinamento de modelos de classificação"
      ]
    },
    {
      "cell_type": "code",
      "execution_count": 46,
      "metadata": {
        "id": "rUurqfso8Fso"
      },
      "outputs": [],
      "source": [
        "# Carregar os arquivos CSV\n",
        "train_df = pd.read_csv('essay_train_scaled.csv')\n",
        "test_df = pd.read_csv('essay_test_scaled.csv')\n",
        "\n",
        "# Separar as features (X) e o target (y)\n",
        "X_train = train_df.drop(columns=['target'])\n",
        "y_train = train_df['target']\n",
        "\n",
        "X_test = test_df.drop(columns=['target'])\n",
        "y_test = test_df['target']"
      ]
    },
    {
      "cell_type": "code",
      "execution_count": 47,
      "metadata": {
        "id": "OydHAWUqW2pJ"
      },
      "outputs": [],
      "source": [
        "rf_classifier = RandomForestClassifier(max_depth=12, random_state=0).fit(X_train, y_train)"
      ]
    },
    {
      "cell_type": "code",
      "execution_count": 48,
      "metadata": {
        "colab": {
          "base_uri": "https://localhost:8080/",
          "height": 807
        },
        "id": "MIPs16kpXMSA",
        "outputId": "1c5ba16d-5d39-4401-d81f-106d0d948f5d"
      },
      "outputs": [
        {
          "name": "stdout",
          "output_type": "stream",
          "text": [
            "Random Forest Classifier (Melhor Modelo):\n",
            "              precision    recall  f1-score   support\n",
            "\n",
            "           0       0.00      0.00      0.00        31\n",
            "           1       0.60      0.08      0.15       109\n",
            "           2       0.52      0.59      0.55       467\n",
            "           3       0.51      0.72      0.60       513\n",
            "           4       0.64      0.13      0.22       193\n",
            "\n",
            "    accuracy                           0.52      1313\n",
            "   macro avg       0.45      0.30      0.30      1313\n",
            "weighted avg       0.53      0.52      0.47      1313\n",
            "\n",
            "Kappa de Cohen no conjunto de teste: 0.4127\n"
          ]
        },
        {
          "data": {
            "image/png": "[encoded data removed]",
            "text/plain": [
              "<Figure size 800x600 with 1 Axes>"
            ]
          },
          "metadata": {},
          "output_type": "display_data"
        }
      ],
      "source": [
        "# Fazer predições no conjunto de teste com o melhor modelo\n",
        "y_pred_rf = rf_classifier.predict(X_test)\n",
        "\n",
        "# Avaliar a performance do RandomForestClassifier\n",
        "print(\"Random Forest Classifier (Melhor Modelo):\")\n",
        "print(classification_report(y_test, y_pred_rf))\n",
        "\n",
        "# Calcular o Kappa de Cohen no conjunto de teste\n",
        "kappa_test = cohen_kappa_score(y_test, y_pred_rf,  weights=\"quadratic\")\n",
        "print(f\"Kappa de Cohen no conjunto de teste: {kappa_test:.4f}\")\n",
        "\n",
        "# Gerar e plotar a matriz de confusão de forma mais visual\n",
        "conf_matrix = confusion_matrix(y_test, y_pred_rf)\n",
        "\n",
        "# Plotar a matriz de confusão com heatmap\n",
        "labels = ['0', '0.5', '1', '1.5', '2']\n",
        "plt.figure(figsize=(8, 6))\n",
        "sns.heatmap(conf_matrix, annot=True, fmt='d', cmap='Blues', cbar=False,\n",
        "            xticklabels=labels,\n",
        "            yticklabels=labels)\n",
        "plt.xlabel('Predito')\n",
        "plt.ylabel('Real')\n",
        "plt.title('Matriz de Confusão - Random Forest Classifier')\n",
        "plt.show()"
      ]
    },
    {
      "cell_type": "code",
      "execution_count": 27,
      "metadata": {
        "id": "2pXAowWoXgE5"
      },
      "outputs": [],
      "source": [
        "lr_classifier = LogisticRegression(max_iter=1000, random_state=42).fit(X_train, y_train)"
      ]
    },
    {
      "cell_type": "code",
      "execution_count": 28,
      "metadata": {
        "colab": {
          "base_uri": "https://localhost:8080/",
          "height": 807
        },
        "id": "IKZVWuR89Qxw",
        "outputId": "8e5cc571-9ed5-48f6-da6f-21cc166102c4"
      },
      "outputs": [
        {
          "name": "stdout",
          "output_type": "stream",
          "text": [
            "Random Forest Classifier (Melhor Modelo):\n",
            "              precision    recall  f1-score   support\n",
            "\n",
            "           0       0.29      0.06      0.11        31\n",
            "           1       0.40      0.17      0.24       109\n",
            "           2       0.49      0.53      0.51       467\n",
            "           3       0.50      0.66      0.57       513\n",
            "           4       0.52      0.22      0.31       193\n",
            "\n",
            "    accuracy                           0.49      1313\n",
            "   macro avg       0.44      0.33      0.35      1313\n",
            "weighted avg       0.49      0.49      0.47      1313\n",
            "\n",
            "Kappa de Cohen no conjunto de teste: 0.2212\n"
          ]
        },
        {
          "data": {
            "image/png": "[encoded data removed]",
            "text/plain": [
              "<Figure size 800x600 with 1 Axes>"
            ]
          },
          "metadata": {},
          "output_type": "display_data"
        }
      ],
      "source": [
        "# Fazer predições no conjunto de teste com o melhor modelo\n",
        "y_pred_rf = lr_classifier.predict(X_test)\n",
        "\n",
        "# Avaliar a performance do RandomForestClassifier\n",
        "print(\"Random Forest Classifier (Melhor Modelo):\")\n",
        "print(classification_report(y_test, y_pred_rf))\n",
        "\n",
        "# Calcular o Kappa de Cohen no conjunto de teste\n",
        "kappa_test = cohen_kappa_score(y_test, y_pred_rf)\n",
        "print(f\"Kappa de Cohen no conjunto de teste: {kappa_test:.4f}\")\n",
        "\n",
        "# Gerar e plotar a matriz de confusão de forma mais visual\n",
        "conf_matrix = confusion_matrix(y_test, y_pred_rf)\n",
        "\n",
        "# Plotar a matriz de confusão com heatmap\n",
        "labels = ['0', '0.5', '1', '1.5', '2']\n",
        "plt.figure(figsize=(8, 6))\n",
        "sns.heatmap(conf_matrix, annot=True, fmt='d', cmap='Blues', cbar=False,\n",
        "            xticklabels=labels,\n",
        "            yticklabels=labels)\n",
        "plt.xlabel('Predito')\n",
        "plt.ylabel('Real')\n",
        "plt.title('Matriz de Confusão - Random Forest Classifier')\n",
        "plt.show()"
      ]
    }
  ],
  "metadata": {
    "colab": {
      "collapsed_sections": [
        "jcrbj3V7F1wB",
        "xMl7o4EqGJMZ",
        "YGl5E7-xHAMu",
        "VHDFwUL8HGg2",
        "D4j3RpUqHI1o",
        "RWxbYkNeHaSm",
        "qWC6VrrMHcA-",
        "OsxV3JNoHys3",
        "cwSm_n6xH09H",
        "g4HkOXn3XMwn",
        "3kVvdWQP_9oh"
      ],
      "provenance": []
    },
    "kernelspec": {
      "display_name": "aibox-env",
      "language": "python",
      "name": "python3"
    },
    "language_info": {
      "name": "python",
      "version": "3.10.12"
    },
    "widgets": {
      "application/vnd.jupyter.widget-state+json": {
        "21087a4d72234bd897f9d40473b4e2f4": {
          "model_module": "@jupyter-widgets/base",
          "model_module_version": "1.2.0",
          "model_name": "LayoutModel",
          "state": {
            "_model_module": "@jupyter-widgets/base",
            "_model_module_version": "1.2.0",
            "_model_name": "LayoutModel",
            "_view_count": null,
            "_view_module": "@jupyter-widgets/base",
            "_view_module_version": "1.2.0",
            "_view_name": "LayoutView",
            "align_content": null,
            "align_items": null,
            "align_self": null,
            "border": null,
            "bottom": null,
            "display": null,
            "flex": null,
            "flex_flow": null,
            "grid_area": null,
            "grid_auto_columns": null,
            "grid_auto_flow": null,
            "grid_auto_rows": null,
            "grid_column": null,
            "grid_gap": null,
            "grid_row": null,
            "grid_template_areas": null,
            "grid_template_columns": null,
            "grid_template_rows": null,
            "height": null,
            "justify_content": null,
            "justify_items": null,
            "left": null,
            "margin": null,
            "max_height": null,
            "max_width": null,
            "min_height": null,
            "min_width": null,
            "object_fit": null,
            "object_position": null,
            "order": null,
            "overflow": null,
            "overflow_x": null,
            "overflow_y": null,
            "padding": null,
            "right": null,
            "top": null,
            "visibility": null,
            "width": null
          }
        },
        "27db80d26ebb446190c99e13c30a6c25": {
          "model_module": "@jupyter-widgets/controls",
          "model_module_version": "1.5.0",
          "model_name": "DescriptionStyleModel",
          "state": {
            "_model_module": "@jupyter-widgets/controls",
            "_model_module_version": "1.5.0",
            "_model_name": "DescriptionStyleModel",
            "_view_count": null,
            "_view_module": "@jupyter-widgets/base",
            "_view_module_version": "1.2.0",
            "_view_name": "StyleView",
            "description_width": ""
          }
        },
        "5dcc4f354c294909a625a247df144c26": {
          "model_module": "@jupyter-widgets/base",
          "model_module_version": "1.2.0",
          "model_name": "LayoutModel",
          "state": {
            "_model_module": "@jupyter-widgets/base",
            "_model_module_version": "1.2.0",
            "_model_name": "LayoutModel",
            "_view_count": null,
            "_view_module": "@jupyter-widgets/base",
            "_view_module_version": "1.2.0",
            "_view_name": "LayoutView",
            "align_content": null,
            "align_items": null,
            "align_self": null,
            "border": null,
            "bottom": null,
            "display": null,
            "flex": null,
            "flex_flow": null,
            "grid_area": null,
            "grid_auto_columns": null,
            "grid_auto_flow": null,
            "grid_auto_rows": null,
            "grid_column": null,
            "grid_gap": null,
            "grid_row": null,
            "grid_template_areas": null,
            "grid_template_columns": null,
            "grid_template_rows": null,
            "height": null,
            "justify_content": null,
            "justify_items": null,
            "left": null,
            "margin": null,
            "max_height": null,
            "max_width": null,
            "min_height": null,
            "min_width": null,
            "object_fit": null,
            "object_position": null,
            "order": null,
            "overflow": null,
            "overflow_x": null,
            "overflow_y": null,
            "padding": null,
            "right": null,
            "top": null,
            "visibility": null,
            "width": null
          }
        },
        "67c26a5a08694c35ab1e709c8eb2c9d9": {
          "model_module": "@jupyter-widgets/controls",
          "model_module_version": "1.5.0",
          "model_name": "ProgressStyleModel",
          "state": {
            "_model_module": "@jupyter-widgets/controls",
            "_model_module_version": "1.5.0",
            "_model_name": "ProgressStyleModel",
            "_view_count": null,
            "_view_module": "@jupyter-widgets/base",
            "_view_module_version": "1.2.0",
            "_view_name": "StyleView",
            "bar_color": null,
            "description_width": ""
          }
        },
        "759ba4694a014edaac6900c43c00d706": {
          "model_module": "@jupyter-widgets/base",
          "model_module_version": "1.2.0",
          "model_name": "LayoutModel",
          "state": {
            "_model_module": "@jupyter-widgets/base",
            "_model_module_version": "1.2.0",
            "_model_name": "LayoutModel",
            "_view_count": null,
            "_view_module": "@jupyter-widgets/base",
            "_view_module_version": "1.2.0",
            "_view_name": "LayoutView",
            "align_content": null,
            "align_items": null,
            "align_self": null,
            "border": null,
            "bottom": null,
            "display": null,
            "flex": null,
            "flex_flow": null,
            "grid_area": null,
            "grid_auto_columns": null,
            "grid_auto_flow": null,
            "grid_auto_rows": null,
            "grid_column": null,
            "grid_gap": null,
            "grid_row": null,
            "grid_template_areas": null,
            "grid_template_columns": null,
            "grid_template_rows": null,
            "height": null,
            "justify_content": null,
            "justify_items": null,
            "left": null,
            "margin": null,
            "max_height": null,
            "max_width": null,
            "min_height": null,
            "min_width": null,
            "object_fit": null,
            "object_position": null,
            "order": null,
            "overflow": null,
            "overflow_x": null,
            "overflow_y": null,
            "padding": null,
            "right": null,
            "top": null,
            "visibility": null,
            "width": null
          }
        },
        "871e50fbe6f446b893df675a2b63c6d3": {
          "model_module": "@jupyter-widgets/controls",
          "model_module_version": "1.5.0",
          "model_name": "HTMLModel",
          "state": {
            "_dom_classes": [],
            "_model_module": "@jupyter-widgets/controls",
            "_model_module_version": "1.5.0",
            "_model_name": "HTMLModel",
            "_view_count": null,
            "_view_module": "@jupyter-widgets/controls",
            "_view_module_version": "1.5.0",
            "_view_name": "HTMLView",
            "description": "",
            "description_tooltip": null,
            "layout": "IPY_MODEL_759ba4694a014edaac6900c43c00d706",
            "placeholder": "​",
            "style": "IPY_MODEL_27db80d26ebb446190c99e13c30a6c25",
            "value": "cohmetrix-BR: download cbow_s50.zip: 100%"
          }
        },
        "952270a4305e43a08505b224a9708c1c": {
          "model_module": "@jupyter-widgets/controls",
          "model_module_version": "1.5.0",
          "model_name": "FloatProgressModel",
          "state": {
            "_dom_classes": [],
            "_model_module": "@jupyter-widgets/controls",
            "_model_module_version": "1.5.0",
            "_model_name": "FloatProgressModel",
            "_view_count": null,
            "_view_module": "@jupyter-widgets/controls",
            "_view_module_version": "1.5.0",
            "_view_name": "ProgressView",
            "bar_style": "success",
            "description": "",
            "description_tooltip": null,
            "layout": "IPY_MODEL_5dcc4f354c294909a625a247df144c26",
            "max": 170360268,
            "min": 0,
            "orientation": "horizontal",
            "style": "IPY_MODEL_67c26a5a08694c35ab1e709c8eb2c9d9",
            "value": 170360268
          }
        },
        "95c00ca6a87d461c8bd4d56414956720": {
          "model_module": "@jupyter-widgets/base",
          "model_module_version": "1.2.0",
          "model_name": "LayoutModel",
          "state": {
            "_model_module": "@jupyter-widgets/base",
            "_model_module_version": "1.2.0",
            "_model_name": "LayoutModel",
            "_view_count": null,
            "_view_module": "@jupyter-widgets/base",
            "_view_module_version": "1.2.0",
            "_view_name": "LayoutView",
            "align_content": null,
            "align_items": null,
            "align_self": null,
            "border": null,
            "bottom": null,
            "display": null,
            "flex": null,
            "flex_flow": null,
            "grid_area": null,
            "grid_auto_columns": null,
            "grid_auto_flow": null,
            "grid_auto_rows": null,
            "grid_column": null,
            "grid_gap": null,
            "grid_row": null,
            "grid_template_areas": null,
            "grid_template_columns": null,
            "grid_template_rows": null,
            "height": null,
            "justify_content": null,
            "justify_items": null,
            "left": null,
            "margin": null,
            "max_height": null,
            "max_width": null,
            "min_height": null,
            "min_width": null,
            "object_fit": null,
            "object_position": null,
            "order": null,
            "overflow": null,
            "overflow_x": null,
            "overflow_y": null,
            "padding": null,
            "right": null,
            "top": null,
            "visibility": null,
            "width": null
          }
        },
        "96718b011da443c69ea3a0d10e736ad8": {
          "model_module": "@jupyter-widgets/controls",
          "model_module_version": "1.5.0",
          "model_name": "DescriptionStyleModel",
          "state": {
            "_model_module": "@jupyter-widgets/controls",
            "_model_module_version": "1.5.0",
            "_model_name": "DescriptionStyleModel",
            "_view_count": null,
            "_view_module": "@jupyter-widgets/base",
            "_view_module_version": "1.2.0",
            "_view_name": "StyleView",
            "description_width": ""
          }
        },
        "bb77b73aa9384ef596cd119904b9c60a": {
          "model_module": "@jupyter-widgets/controls",
          "model_module_version": "1.5.0",
          "model_name": "HTMLModel",
          "state": {
            "_dom_classes": [],
            "_model_module": "@jupyter-widgets/controls",
            "_model_module_version": "1.5.0",
            "_model_name": "HTMLModel",
            "_view_count": null,
            "_view_module": "@jupyter-widgets/controls",
            "_view_module_version": "1.5.0",
            "_view_name": "HTMLView",
            "description": "",
            "description_tooltip": null,
            "layout": "IPY_MODEL_95c00ca6a87d461c8bd4d56414956720",
            "placeholder": "​",
            "style": "IPY_MODEL_96718b011da443c69ea3a0d10e736ad8",
            "value": " 162M/162M [01:18&lt;00:00, 4.09MB/s]"
          }
        },
        "d09b4b390bf44d00819c7a0d778ab0e0": {
          "model_module": "@jupyter-widgets/controls",
          "model_module_version": "1.5.0",
          "model_name": "HBoxModel",
          "state": {
            "_dom_classes": [],
            "_model_module": "@jupyter-widgets/controls",
            "_model_module_version": "1.5.0",
            "_model_name": "HBoxModel",
            "_view_count": null,
            "_view_module": "@jupyter-widgets/controls",
            "_view_module_version": "1.5.0",
            "_view_name": "HBoxView",
            "box_style": "",
            "children": [
              "IPY_MODEL_871e50fbe6f446b893df675a2b63c6d3",
              "IPY_MODEL_952270a4305e43a08505b224a9708c1c",
              "IPY_MODEL_bb77b73aa9384ef596cd119904b9c60a"
            ],
            "layout": "IPY_MODEL_21087a4d72234bd897f9d40473b4e2f4"
          }
        }
      }
    }
  },
  "nbformat": 4,
  "nbformat_minor": 0
}
